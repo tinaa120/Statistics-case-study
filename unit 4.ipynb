{
 "cells": [
  {
   "cell_type": "markdown",
   "id": "767b33cf-34ef-4989-b2d4-766803355562",
   "metadata": {},
   "source": [
    "  ### Statistics for CS\n",
    " **Section A**\n",
    "  <br> **5th sem**\n",
    "### CASE STUDY"
   ]
  },
  {
   "cell_type": "markdown",
   "id": "a3fd3c86-fba2-4545-95ab-7455b6a32737",
   "metadata": {},
   "source": [
    "### GROUP MEMBERS \n",
    " <br> **LAXMI**(22BCS059)\n",
    "<br> **ARPITA**(22BCS017)\n",
    "<br> **B. BABITHA**(22BCS026)\n",
    "\n",
    "## **Depression Dataset**\n"
   ]
  },
  {
   "cell_type": "markdown",
   "id": "35823d56-1ba8-4354-b954-a247cb26f106",
   "metadata": {},
   "source": [
    "## UNIT-IV"
   ]
  },
  {
   "cell_type": "markdown",
   "id": "6c2863c7-4006-400e-aba5-db6617963fef",
   "metadata": {},
   "source": [
    "## Categorical Data Analysis and Goodness of Fit Tests"
   ]
  },
  {
   "cell_type": "markdown",
   "id": "bf933d4b-8372-4338-9d0d-51edd8ffc4cb",
   "metadata": {},
   "source": [
    "## Chi- Squared Tests"
   ]
  },
  {
   "cell_type": "markdown",
   "id": "ab4985a2-7fe1-4724-a6b4-baf77db6dd97",
   "metadata": {},
   "source": [
    "## 1.The Chi-Square Goodness-of-Fit Test\n"
   ]
  },
  {
   "cell_type": "code",
   "execution_count": 31,
   "id": "c28428fb-fd75-4a75-80d5-b4bd38e9c187",
   "metadata": {},
   "outputs": [],
   "source": [
    "def get_chi_square_tab(alpha, dof):\n",
    "    chi_square_table = {\n",
    "        0.10: {1: 2.706, 2: 4.605, 3: 6.251, 4: 7.779, 5: 9.236, 6: 10.645, 7: 12.017, 8: 13.362, 9: 14.684, 10: 15.987},\n",
    "        0.05: {1: 3.841, 2: 5.991, 3: 7.815, 4: 9.488, 5: 11.071, 6: 12.592, 7: 14.067, 8: 15.507, 9: 16.919, 10: 18.307},\n",
    "        0.01: {1: 6.635, 2: 9.210, 3: 11.345, 4: 13.277, 5: 15.086, 6: 16.812, 7: 18.475, 8: 20.090, 9: 21.666, 10: 23.209}\n",
    "    }\n",
    "\n",
    "    if alpha in chi_square_table and dof in chi_square_table[alpha]:\n",
    "        return chi_square_table[alpha][dof]\n",
    "    else:\n",
    "        print(\"Invalid alpha or degrees of freedom.\")\n",
    "        return None"
   ]
  },
  {
   "cell_type": "markdown",
   "id": "c327681b-c77f-4a92-82be-529d62c11158",
   "metadata": {},
   "source": [
    " ## **Hypothesis Statements**\n",
    "<br> **Null Hypothesis (H0):** The observed distribution matches the expected distribution.\n",
    "<br>**Alternative Hypothesis (H1):** The observed distribution does not match the expected distribution."
   ]
  },
  {
   "cell_type": "code",
   "execution_count": 60,
   "id": "d1aecffe-9dd9-45dc-8178-562829c25417",
   "metadata": {},
   "outputs": [
    {
     "name": "stdout",
     "output_type": "stream",
     "text": [
      "Observed Frequencies:\n",
      "No: 2101\n",
      "Yes: 455\n",
      "\n",
      "\n",
      "Degrees of Freedom:  1\n",
      "Chi-tabulated:  3.841\n",
      "\n",
      "Expected Frequencies:\n",
      "No: 1278.0\n",
      "Yes: 1278.0\n",
      "\n",
      "Chi-squared statistic: 1059.982785602504\n",
      "Reject the null hypothesis. There is enough evidence to suggest a significant difference in the distribution.\n"
     ]
    }
   ],
   "source": [
    "import pandas as pd\n",
    "df = pd.read_csv('C:\\\\Users\\\\DELL G15\\\\Downloads\\\\archive (4)\\\\final_depression_dataset_1.csv')\n",
    "unique_values = df['Depression'].unique()\n",
    "\n",
    "observed_frequency_dict = {}\n",
    "\n",
    "for value in unique_values:\n",
    "    observed_frequency_dict[value] = df[df['Depression'] == value].shape[0]\n",
    "\n",
    "print(\"Observed Frequencies:\")\n",
    "n = 0\n",
    "for key, value in observed_frequency_dict.items():\n",
    "    n = n + 1\n",
    "    print(f\"{key}: {value}\")\n",
    "\n",
    "dof = n - 1\n",
    "print(\"\\n\\nDegrees of Freedom: \", dof)\n",
    "\n",
    "alpha = 0.05\n",
    "\n",
    "chi_tab = get_chi_square_tab(alpha=alpha, dof=dof)\n",
    "print(\"Chi-tabulated: \", chi_tab)\n",
    "\n",
    "observed_df = pd.DataFrame(list(observed_frequency_dict.items()), columns=['Depression', 'observed_frequency'])\n",
    "\n",
    "expected_frequency = observed_df['observed_frequency'].sum() / len(observed_df)\n",
    "\n",
    "expected_frequencies = [expected_frequency] * len(observed_df)\n",
    "observed_df['expected_frequency'] = expected_frequencies\n",
    "\n",
    "chi_stat = sum((observed_df['observed_frequency'] - expected_frequency) ** 2 / expected_frequency)\n",
    "\n",
    "print(\"\\nExpected Frequencies:\")\n",
    "for key, value in observed_frequency_dict.items():\n",
    "    print(f\"{key}: {expected_frequency}\")\n",
    "\n",
    "print(f\"\\nChi-squared statistic: {chi_stat}\")\n",
    "\n",
    "if chi_stat > chi_tab:\n",
    "    print(\"Reject the null hypothesis. There is enough evidence to suggest a significant difference in the distribution.\")\n",
    "else:\n",
    "    print(\"Fail to reject the null hypothesis. There is not enough evidence to suggest a significant difference in the distribution.\")"
   ]
  },
  {
   "cell_type": "markdown",
   "id": "1a885322-2767-48e5-b093-479f70e1b595",
   "metadata": {},
   "source": [
    "## 2.Chi-square test for Normality"
   ]
  },
  {
   "cell_type": "markdown",
   "id": "de72c1da-b640-46c0-8a3c-82a2cf853c1f",
   "metadata": {},
   "source": [
    "**Hypothesis Statements** check whether the data follow normal distribution or not."
   ]
  },
  {
   "cell_type": "code",
   "execution_count": 62,
   "id": "67fcd3f3-c216-43ba-83d3-2b9d3060a855",
   "metadata": {},
   "outputs": [
    {
     "name": "stdout",
     "output_type": "stream",
     "text": [
      "Chi-squared statistic for normality: 428.89019276044314\n",
      "Degrees of Freedom: 9\n",
      "chi tabulated value: 16.919\n",
      "\n",
      "Observed and Expected Frequencies:\n",
      "   Bin Edges  Observed Frequencies  \\\n",
      "0       18.0                 115.0   \n",
      "1       22.2                 138.0   \n",
      "2       26.4                 165.0   \n",
      "3       30.6                 181.0   \n",
      "4       34.8                 223.0   \n",
      "5       39.0                 283.0   \n",
      "6       43.2                 230.0   \n",
      "7       47.4                 252.0   \n",
      "8       51.6                 219.0   \n",
      "9       55.8                 295.0   \n",
      "\n",
      "   Expected Frequencies (assuming normal distribution)  \n",
      "0                                          50.931077    \n",
      "1                                          95.472634    \n",
      "2                                         156.430913    \n",
      "3                                         224.036250    \n",
      "4                                         280.458936    \n",
      "5                                         306.886352    \n",
      "6                                         293.524255    \n",
      "7                                         245.396370    \n",
      "8                                         179.328110    \n",
      "9                                         114.546512    \n",
      "\n",
      "Reject the null hypothesis. There is evidence that the 'Age' column is not normally distributed.\n"
     ]
    }
   ],
   "source": [
    "import pandas as pd\n",
    "import numpy as np\n",
    "import matplotlib.pyplot as plt\n",
    "from scipy import stats\n",
    "df = pd.read_csv('C:\\\\Users\\\\DELL G15\\\\Downloads\\\\archive (4)\\\\final_depression_dataset_1.csv')\n",
    "\n",
    "df = df[df[\"Depression\"]==\"No\"]\n",
    "\n",
    "age_data = df['Age']\n",
    "\n",
    "num_bins = 10\n",
    "\n",
    "observed_frequencies, bin_edges = np.histogram(age_data, bins=num_bins)\n",
    "observed_frequencies = observed_frequencies.astype(float)\n",
    "\n",
    "mean_age = age_data.mean()\n",
    "std_dev_age = age_data.std()\n",
    "expected_frequencies = np.diff(stats.norm.cdf(bin_edges, mean_age, std_dev_age)) * len(age_data)\n",
    "\n",
    "chi_squared_stat = np.sum((observed_frequencies - expected_frequencies)**2 / expected_frequencies)\n",
    "\n",
    "dof = num_bins - 1\n",
    "\n",
    "alpha = 0.05\n",
    "\n",
    "chi_tab = get_chi_square_tab(alpha, dof)\n",
    "\n",
    "print(\"Chi-squared statistic for normality:\", chi_squared_stat)\n",
    "print(\"Degrees of Freedom:\", dof)\n",
    "print(\"chi tabulated value:\", chi_tab)\n",
    "\n",
    "freq_table = pd.DataFrame({\n",
    "    'Bin Edges': bin_edges[:-1],\n",
    "    'Observed Frequencies': observed_frequencies,\n",
    "    'Expected Frequencies (assuming normal distribution)': expected_frequencies\n",
    "})\n",
    "\n",
    "# Display the table\n",
    "print(\"\\nObserved and Expected Frequencies:\")\n",
    "print(freq_table)\n",
    "\n",
    "if chi_squared_stat > chi_tab:\n",
    "    print(\"\\nReject the null hypothesis. There is evidence that the 'Age' column is not normally distributed.\")\n",
    "else:\n",
    "    print(\"\\nFail to reject the null hypothesis. There is no significant evidence that the 'Age' column is not normally distributed.\")\n",
    "\n"
   ]
  },
  {
   "cell_type": "markdown",
   "id": "eaeb9415-366f-4a1b-90f3-3e3575c292bf",
   "metadata": {},
   "source": [
    "## Chi-square test of Independence"
   ]
  },
  {
   "cell_type": "code",
   "execution_count": 56,
   "id": "b6d58ce8-9fa5-448a-b7a9-f09628767c36",
   "metadata": {},
   "outputs": [
    {
     "name": "stdout",
     "output_type": "stream",
     "text": [
      "Unique values in 'Have you ever had suicidal thoughts ?': ['No' 'Yes']\n",
      "\n",
      "Contingency Table:\n",
      "Depression                               No  Yes\n",
      "Have you ever had suicidal thoughts ?           \n",
      "No                                     1212   95\n",
      "Yes                                     889  360\n",
      "\n",
      "Chi-squared statistic: 202.78578762776084\n",
      "Degrees of Freedom: 1\n",
      "Chi-tabulated: 3.841\n",
      "Reject the null hypothesis. There is evidence of a significant association between the two variables.\n"
     ]
    }
   ],
   "source": [
    "import pandas as pd\n",
    "df = pd.read_csv('C:\\\\Users\\\\DELL G15\\\\Downloads\\\\archive (4)\\\\final_depression_dataset_1.csv')\n",
    "from scipy.stats import chi2_contingency \n",
    "print(\"Unique values in 'Have you ever had suicidal thoughts ?':\", df['Have you ever had suicidal thoughts ?'].unique())\n",
    "contingency_table = pd.crosstab(df['Have you ever had suicidal thoughts ?'], df['Depression']) \n",
    "\n",
    "print(\"\\nContingency Table:\") \n",
    "print(contingency_table) \n",
    "observed_frequencies = contingency_table.values  \n",
    "chi_stat = sum((observed_frequencies[i, j] - contingency_table.sum(axis=1).iloc[i] * contingency_table.sum(axis=0).iloc[j] / contingency_table.sum().sum())**2 / (contingency_table.sum(axis=1).iloc[i] * contingency_table.sum(axis=0).iloc[j] / contingency_table.sum().sum())\n",
    "               for i in range(contingency_table.shape[0]) \n",
    "               for j in range(contingency_table.shape[1]))  \n",
    "dof = (contingency_table.shape[0] - 1) * (contingency_table.shape[1] - 1) \n",
    "alpha = 0.05  \n",
    "chi_tab = get_chi_square_tab(alpha, dof) \n",
    "print(f\"\\nChi-squared statistic: {chi_stat}\") \n",
    "print(f\"Degrees of Freedom: {dof}\") \n",
    "print(f\"Chi-tabulated: {chi_tab}\")  \n",
    "if chi_stat > chi_tab:     \n",
    "    print(\"Reject the null hypothesis. There is evidence of a significant association between the two variables.\") \n",
    "else:     print(\"Fail to reject the null hypothesis. There is no evidence of a significant association between the two variables.\")"
   ]
  },
  {
   "cell_type": "markdown",
   "id": "782fa6d4-07d0-4a41-bc5b-d45bf9d2b5f8",
   "metadata": {},
   "source": [
    "## Chi-square test of Homogenity"
   ]
  },
  {
   "cell_type": "markdown",
   "id": "56174548-85b3-437e-ac63-7dc478d0a056",
   "metadata": {},
   "source": [
    "For a Chi-Square Test of Homogeneity between \"Sleep Duration\" and \"Depression,\" the hypotheses focus on whether distributions of depression status differ across different categories of sleep duration."
   ]
  },
  {
   "cell_type": "markdown",
   "id": "e6bac4de-9196-43ff-81ae-ac4c2695b83f",
   "metadata": {},
   "source": [
    "**Null Hypothesis (H₀):** The distribution of depression status is the same across different sleep duration categories. This implies that depression is similarly distributed regardless of sleep duration.\n",
    "\n",
    "**Alternative Hypothesis (H₁):** The distribution of depression status differs across different sleep duration categories. This suggests that the frequency of depression varies depending on the sleep duration group."
   ]
  },
  {
   "cell_type": "code",
   "execution_count": 52,
   "id": "0c9310f7-4ccf-4693-b7f0-eeec488dce9f",
   "metadata": {},
   "outputs": [
    {
     "name": "stdout",
     "output_type": "stream",
     "text": [
      "Unique values in 'Sleep Duration' column: ['7-8 hours' '5-6 hours' 'More than 8 hours' 'Less than 5 hours']\n",
      "\n",
      "Observed Contingency Table:\n",
      "Depression          No  Yes\n",
      "Sleep Duration             \n",
      "5-6 hours          519  109\n",
      "7-8 hours          544  114\n",
      "Less than 5 hours  507  141\n",
      "More than 8 hours  531   91\n",
      "\n",
      "Expected Contingency Table:\n",
      "Depression                 No         Yes\n",
      "Sleep Duration                           \n",
      "5-6 hours          516.208138  111.791862\n",
      "7-8 hours          540.867762  117.132238\n",
      "Less than 5 hours  532.647887  115.352113\n",
      "More than 8 hours  511.276213  110.723787\n",
      "\n",
      "Chi-squared statistic: 11.398765436061394\n",
      "Degrees of Freedom: 3\n",
      "Chi-tabulated: 7.815\n",
      "Reject the null hypothesis.\n"
     ]
    }
   ],
   "source": [
    "\n",
    "df = pd.read_csv('C:\\\\Users\\\\DELL G15\\\\Downloads\\\\archive (4)\\\\final_depression_dataset_1.csv')\n",
    "print(\"Unique values in 'Sleep Duration' column:\", df['Sleep Duration'].unique())\n",
    "\n",
    "contingency_table = pd.crosstab(df['Sleep Duration'], df['Depression'])\n",
    "\n",
    "print(\"\\nObserved Contingency Table:\")\n",
    "print(contingency_table)\n",
    "\n",
    "observed_frequencies = contingency_table.values\n",
    "\n",
    "expected_frequencies = contingency_table.sum(axis=1).values.reshape(-1, 1) * contingency_table.sum(axis=0).values / contingency_table.sum().sum()\n",
    "expected_contingency_table = pd.DataFrame(expected_frequencies, index=contingency_table.index, columns=contingency_table.columns)\n",
    "\n",
    "print(\"\\nExpected Contingency Table:\")\n",
    "print(expected_contingency_table)\n",
    "\n",
    "chi_stat = sum((observed_frequencies[i, j] - expected_frequencies[i, j])**2 / expected_frequencies[i, j] for i in range(contingency_table.shape[0]) for j in range(contingency_table.shape[1]))\n",
    "\n",
    "dof = (contingency_table.shape[0] - 1) * (contingency_table.shape[1] - 1)\n",
    "\n",
    "alpha = 0.05\n",
    "\n",
    "chi_tab = get_chi_square_tab(alpha, dof)\n",
    "\n",
    "print(f\"\\nChi-squared statistic: {chi_stat}\")\n",
    "print(f\"Degrees of Freedom: {dof}\")\n",
    "print(f\"Chi-tabulated: {chi_tab}\")\n",
    "\n",
    "if chi_stat > chi_tab:\n",
    "    print(\"Reject the null hypothesis.\")\n",
    "else:\n",
    "    print(\"Fail to reject the null hypothesis.\")"
   ]
  },
  {
   "cell_type": "markdown",
   "id": "9f01ff46-2750-4e32-8e73-369121a6c768",
   "metadata": {},
   "source": [
    "## Chi-square test for 2x2 contingency table"
   ]
  },
  {
   "cell_type": "markdown",
   "id": "436ca78e-5805-4a65-affb-cef6f66dc8fd",
   "metadata": {},
   "source": [
    "**Null Hypothesis (H₀):** There is no association between suicidal thoughts and depression (i.e., the two variables are independent).\n",
    "<br>**Alternative Hypothesis (H₁):** There is an association between suicidal thoughts and depression (i.e., the two variables are dependent)."
   ]
  },
  {
   "cell_type": "code",
   "execution_count": 58,
   "id": "13fbf94c-bf65-4637-b1ec-fe0c13fde7b7",
   "metadata": {},
   "outputs": [
    {
     "name": "stdout",
     "output_type": "stream",
     "text": [
      "Unique values in 'Have you ever had suicidal thoughts ?': ['No' 'Yes']\n",
      "Unique values in 'Depression': ['No' 'Yes']\n",
      "\n",
      "Contingency Table:\n",
      "Depression                               No  Yes\n",
      "Have you ever had suicidal thoughts ?           \n",
      "No                                     1212   95\n",
      "Yes                                     889  360\n",
      "\n",
      "Calculated Chi-squared statistic: 202.7857876277608\n",
      "Degrees of Freedom: 1\n",
      "Chi-tabulated: 3.841\n",
      "\n",
      "Reject the null hypothesis. There is evidence of a significant association between suicidal thoughts and depression.\n"
     ]
    }
   ],
   "source": [
    "df = pd.read_csv('C:\\\\Users\\\\DELL G15\\\\Downloads\\\\archive (4)\\\\final_depression_dataset_1.csv')\n",
    "df = df[df['Have you ever had suicidal thoughts ?'] != \"Don't know\"]\n",
    "df = df[df['Depression'] != \"Don't know\"]\n",
    "print(\"Unique values in 'Have you ever had suicidal thoughts ?':\", df['Have you ever had suicidal thoughts ?'].unique())\n",
    "print(\"Unique values in 'Depression':\", df['Depression'].unique())\n",
    "\n",
    "\n",
    "contingency_table = pd.crosstab(df['Have you ever had suicidal thoughts ?'], df['Depression'])\n",
    "\n",
    "print(\"\\nContingency Table:\")\n",
    "print(contingency_table)\n",
    "\n",
    "a, b = contingency_table.iloc[0, 0], contingency_table.iloc[0, 1]\n",
    "c, d = contingency_table.iloc[1, 0], contingency_table.iloc[1, 1]\n",
    "    \n",
    "\n",
    "chi_cal = (df.shape[0] * (a * d - b * c)**2) / ((a + b) * (c + d) * (a + c) * (b + d))\n",
    "print(f\"\\nCalculated Chi-squared statistic: {chi_cal}\")\n",
    "\n",
    "\n",
    "dof = 1\n",
    "\n",
    "alpha = 0.05\n",
    "\n",
    "chi_tab = get_chi_square_tab(alpha, dof)\n",
    "\n",
    "print(f\"Degrees of Freedom: {dof}\")\n",
    "print(f\"Chi-tabulated: {chi_tab}\")\n",
    "\n",
    "if chi_cal > chi_tab:\n",
    "    print(\"\\nReject the null hypothesis. There is evidence of a significant association between suicidal thoughts and depression.\")\n",
    "else:\n",
    "    print(\"\\nFail to reject the null hypothesis. There is no significant evidence of an association between suicidal thoughts and depression.\")"
   ]
  },
  {
   "cell_type": "markdown",
   "id": "600a285b-36a1-4cbd-9caf-01588aecadb1",
   "metadata": {},
   "source": [
    "## **Thank You**"
   ]
  },
  {
   "cell_type": "markdown",
   "id": "b7220636-e20e-4d1a-9b2e-b026ba62666b",
   "metadata": {},
   "source": []
  }
 ],
 "metadata": {
  "kernelspec": {
   "display_name": "Python 3 (ipykernel)",
   "language": "python",
   "name": "python3"
  },
  "language_info": {
   "codemirror_mode": {
    "name": "ipython",
    "version": 3
   },
   "file_extension": ".py",
   "mimetype": "text/x-python",
   "name": "python",
   "nbconvert_exporter": "python",
   "pygments_lexer": "ipython3",
   "version": "3.12.4"
  }
 },
 "nbformat": 4,
 "nbformat_minor": 5
}
