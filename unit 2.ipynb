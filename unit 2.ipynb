{
 "cells": [
  {
   "cell_type": "markdown",
   "id": "ad8a0689-a593-4d15-9842-03c2cab991b4",
   "metadata": {},
   "source": [
    "  ### Statistics for CS\n",
    " **Section A**\n",
    "  <br> **5th sem**\n",
    "### CASE STUDY"
   ]
  },
  {
   "cell_type": "markdown",
   "id": "112efc1e-f641-46a8-86a0-8d797a9f3151",
   "metadata": {},
   "source": [
    "### GROUP MEMBERS \n",
    " <br> **LAXMI**(22BCS059)\n",
    "<br> **ARPITA**(22BCS017)\n",
    "<br> **B. BABITHA**(22BCS026)\n",
    "\n",
    "**Depression Dataset**\n"
   ]
  },
  {
   "cell_type": "markdown",
   "id": "a04ea6af-c1e0-40c6-ac66-b70913309c98",
   "metadata": {},
   "source": [
    "## UNIT-II"
   ]
  },
  {
   "cell_type": "markdown",
   "id": "f8824899-5177-47c9-bdc4-66ef7a27647e",
   "metadata": {},
   "source": [
    "## **Parametric Hypothesis Tests**"
   ]
  },
  {
   "cell_type": "code",
   "execution_count": 1,
   "id": "7748e455-2758-462d-ae92-463afd5f7eca",
   "metadata": {},
   "outputs": [],
   "source": [
    "import pandas as pd\n"
   ]
  },
  {
   "cell_type": "code",
   "execution_count": 3,
   "id": "440ef422-da9e-4864-a569-497a92a2a5be",
   "metadata": {},
   "outputs": [],
   "source": [
    "def get_Z_TAB(side,significance_level):\n",
    "    z_table = {\n",
    "        0.01: {2: 2.576, 1: 2.326},\n",
    "        0.05: {2: 1.960, 1: 1.645},\n",
    "        0.10: {2: 1.645, 1: 1.282}\n",
    "    }\n",
    "\n",
    "    if significance_level in z_table:\n",
    "        if side in [2, 1]:\n",
    "            return z_table[significance_level][side]\n",
    "        else:\n",
    "            raise ValueError(\"Invalid side. Use 2 or 1.\")\n",
    "    else:\n",
    "        raise ValueError(\"Invalid significance level. Use 0.01, 0.05, or 0.10.\")"
   ]
  },
  {
   "cell_type": "code",
   "execution_count": 5,
   "id": "1787f156-1ed5-418e-8fa7-444c1bb8c388",
   "metadata": {},
   "outputs": [],
   "source": [
    "import pandas as pd\n",
    "import matplotlib.pyplot as plt\n",
    "import numpy as np\n",
    "import seaborn as sns"
   ]
  },
  {
   "cell_type": "markdown",
   "id": "52c41c7e-ca56-4869-b1df-236e118f0e06",
   "metadata": {},
   "source": [
    "## Large One - Sample Z - Test for Population Mean"
   ]
  },
  {
   "cell_type": "markdown",
   "id": "fd0852fd-d38a-44b7-9148-3277686e7dfb",
   "metadata": {},
   "source": [
    "**Hypothesis Statements**"
   ]
  },
  {
   "cell_type": "markdown",
   "id": "6ad7b549-1276-4a25-ac0a-6858ab818145",
   "metadata": {},
   "source": [
    "**Null Hypothesis (H0):** The average age of respondents with suicidal thoughts is 30 years.\n",
    "<br> H0:μ=30\n",
    "\n",
    " "
   ]
  },
  {
   "cell_type": "markdown",
   "id": "4c2e6ca1-6fe4-413c-b6a4-8eaf82fd8a0a",
   "metadata": {},
   "source": [
    "**Alternative Hypothesis (H₁):** The alternative hypothesis is the statement that contradicts the null hypothesis. In this case ,the average age of respondents with suicidal thoughts is not 30 years.\n",
    "<br> H₁ :μ is not equals to 30"
   ]
  },
  {
   "cell_type": "code",
   "execution_count": 6,
   "id": "3127bea8-e309-4e5f-9413-1b25d8a088a2",
   "metadata": {},
   "outputs": [
    {
     "name": "stdout",
     "output_type": "stream",
     "text": [
      "Sample Mean: 38.4700\n",
      "Claimed Mean: 30\n",
      "\n",
      "Step 1: Hypothesis statements: \n",
      "H0: The average age of respondents with suicidal thoughts is 30 years.\n",
      "H1: The average age of respondents with suicidal thoughts is different from 30 years.\n",
      "\n",
      "Step 2: Z_CAL calculation: \n",
      "Z-cal: 7.4406\n",
      "\n",
      "Step 3: Z_TAB value: \n",
      "Z-tab: (0.05 significance level, 2-tailed test): 1.96\n",
      "\n",
      "Step 4: Decision Making\n",
      "Z_cal > Z_tab. So, reject the null hypothesis.\n",
      "\n",
      "Step 5: Summary:\n",
      "There is enough evidence to reject the null hypothesis. The average age of respondents with suicidal thoughts is not 30 years.\n",
      "\n",
      "Step 6: Confidence Interval: alpha = 0.05\n",
      "Lower Bound: 36.2388\n",
      "Upper Bound: 40.7012\n"
     ]
    }
   ],
   "source": [
    "import pandas as pd\n",
    "from scipy import stats\n",
    "df = pd.read_csv('C:\\\\Users\\\\DELL G15\\\\Downloads\\\\archive (4)\\\\final_depression_dataset_1.csv')\n",
    "\n",
    "df = df[df['Have you ever had suicidal thoughts ?'] == 'Yes']\n",
    "\n",
    "claim_mean = 30  \n",
    "sample_size = 100  \n",
    "sample_data = df['Age'].sample(n=sample_size, random_state=42) \n",
    "\n",
    "sample_mean = sample_data.mean()\n",
    "sample_std = sample_data.std()\n",
    "\n",
    "alpha = 0.05 \n",
    "tail = 2 \n",
    "\n",
    "# Perform one-sample Z-test\n",
    "z_cal = (sample_mean - claim_mean) / (sample_std / (sample_size ** 0.5))\n",
    "\n",
    "# Get the critical Z-score from the standard normal distribution for the given alpha\n",
    "z_tab = get_Z_TAB(side=tail,significance_level = alpha)\n",
    "\n",
    "# Hypothesis statements\n",
    "null_hypothesis = f\"The average age of respondents with suicidal thoughts is {claim_mean} years.\"\n",
    "alternative_hypothesis = f\"The average age of respondents with suicidal thoughts is different from {claim_mean} years.\"\n",
    "\n",
    "print(f\"Sample Mean: {sample_mean:.4f}\")\n",
    "print(f\"Claimed Mean: {claim_mean}\")\n",
    "\n",
    "print(\"\\nStep 1: Hypothesis statements: \")\n",
    "print(f\"H0: {null_hypothesis}\")\n",
    "print(f\"H1: {alternative_hypothesis}\")\n",
    "\n",
    "print(\"\\nStep 2: Z_CAL calculation: \")\n",
    "print(f\"Z-cal: {abs(z_cal):.4f}\")\n",
    "\n",
    "print(\"\\nStep 3: Z_TAB value: \")\n",
    "print(f\"Z-tab: ({alpha} significance level, {tail}-tailed test): {z_tab:.2f}\")\n",
    "\n",
    "print(\"\\nStep 4: Decision Making\")\n",
    "if abs(z_cal) > z_tab:\n",
    "    print(f\"Z_cal > Z_tab. So, reject the null hypothesis.\\n\\nStep 5: Summary:\\nThere is enough evidence to reject the null hypothesis. The average age of respondents with suicidal thoughts is not {claim_mean} years.\")\n",
    "else:\n",
    "    print(f\"Z_cal < Z_tab. So, fail to reject the null hypothesis.\\n\\nStep 5: Summary:\\nThere is not enough evidence to reject the null hypothesis. The average age of respondents with suicidal thoughts is {claim_mean} years.\")\n",
    "\n",
    "# Step 6: Confidence Interval\n",
    "confidence_interval = z_tab * (sample_std / (sample_size ** 0.5))\n",
    "print(f\"\\nStep 6: Confidence Interval: alpha = {alpha}\")\n",
    "print(f\"Lower Bound: {sample_mean - confidence_interval:.4f}\")\n",
    "print(f\"Upper Bound: {sample_mean + confidence_interval:.4f}\")\n"
   ]
  },
  {
   "cell_type": "markdown",
   "id": "1305961a-6731-44ed-8d42-218ad94e47ac",
   "metadata": {},
   "source": [
    "## Large Two - Sample Z-Test for Population Mean"
   ]
  },
  {
   "cell_type": "markdown",
   "id": "88fae373-286b-4c3e-a4db-b4b5af6a0ea4",
   "metadata": {},
   "source": [
    "**Hypothesis Statements**"
   ]
  },
  {
   "cell_type": "markdown",
   "id": "d1154391-81a7-4a3a-ac5d-7f5aff8926af",
   "metadata": {},
   "source": [
    "**Null Hypothesis(H0) :** There is no significant difference in the mean age between individuals who have had suicidal thoughts(\"Yes\" in the 'Suicidal thoughts' column) and individuals who have not(\"No\" in the 'Suicidal thoughts' column)."
   ]
  },
  {
   "cell_type": "markdown",
   "id": "516a5100-32c5-4257-8dfc-e5f134a6b575",
   "metadata": {},
   "source": [
    "**Alternative Hypothesis (Ha):** There is a significant difference in the mean age between individuals who have had suicidal thoughts(\"Yes\" in the 'Suicidal thoughts' column) and individuals who have not(\"No\" in the 'Suicidal thoughts' column)."
   ]
  },
  {
   "cell_type": "code",
   "execution_count": 9,
   "id": "5947155e-f3eb-42e2-ad08-5c18afc88c70",
   "metadata": {},
   "outputs": [
    {
     "name": "stdout",
     "output_type": "stream",
     "text": [
      "n1: 60, n2: 70\n",
      "\n",
      "Step 1: Hypothesis statements:\n",
      "H0: There is no significant difference in the mean age between individuals who have had suicidal thoughts and individuals who have not.\n",
      "H1: There is a significant difference in the mean age between individuals who have had suicidal thoughts and individuals who have not.\n",
      "\n",
      "Step 2: Z_CAL calculation:\n",
      "Z-cal: 1.106011934156534\n",
      "\n",
      "Step 3: Z_TAB value:\n",
      "Z-tab: (0.05 significance level, 2-tailed test): 1.96\n",
      "\n",
      "Step 4: Decision Making\n",
      "Fail to reject the null hypothesis (H0).\n",
      "\n",
      "Step 5: Conclusion\n",
      "There is no significant difference in mean age between individuals who have had suicidal thoughts and those who have not.\n",
      "Confidence Interval for the mean difference: (-1.842088195970514, 6.613516767399086)\n"
     ]
    }
   ],
   "source": [
    "import pandas as pd\n",
    "import numpy as np\n",
    "from scipy import stats\n",
    "\n",
    "df = pd.read_csv('C:\\\\Users\\\\DELL G15\\\\Downloads\\\\archive (4)\\\\final_depression_dataset_1.csv')\n",
    "\n",
    "H0 = \"There is no significant difference in the mean age between individuals who have had suicidal thoughts and individuals who have not.\"\n",
    "H1 = \"There is a significant difference in the mean age between individuals who have had suicidal thoughts and individuals who have not.\"\n",
    "\n",
    "sample_size_1 = 60 \n",
    "sample_size_2 = 70 \n",
    "\n",
    "\n",
    "sample1 = df[df['Have you ever had suicidal thoughts ?'] == 'Yes']['Age'].sample(n=sample_size_1, random_state=42)\n",
    "sample2 = df[df['Have you ever had suicidal thoughts ?'] == 'No']['Age'].sample(n=sample_size_2, random_state=42)\n",
    "\n",
    "sp = df['Age'].std()\n",
    "\n",
    "alpha = 0.05\n",
    "tail = 2\n",
    "Z_TAB = get_Z_TAB(side=tail,significance_level=alpha)\n",
    "\n",
    "# Calculate sample sizes and means for the samples\n",
    "n1 = len(sample1)\n",
    "n2 = len(sample2)\n",
    "print(f\"n1: {n1}, n2: {n2}\")\n",
    "x1_bar = sample1.mean()\n",
    "x2_bar = sample2.mean()\n",
    "\n",
    "num = abs(x2_bar - x1_bar)\n",
    "den = sp * (((1 / n1) + (1 / n2)) ** 0.5)\n",
    "\n",
    "Z_CAL = num / den\n",
    "\n",
    "lb = num - Z_TAB * den\n",
    "ub = num + Z_TAB * den\n",
    "\n",
    "print(\"\\nStep 1: Hypothesis statements:\")\n",
    "print(f\"H0: {H0}\")\n",
    "print(f\"H1: {H1}\")\n",
    "\n",
    "print(\"\\nStep 2: Z_CAL calculation:\")\n",
    "print(f\"Z-cal: {abs(Z_CAL)}\")\n",
    "\n",
    "print(\"\\nStep 3: Z_TAB value:\")\n",
    "print(f\"Z-tab: ({alpha} significance level, {tail}-tailed test): {Z_TAB}\")\n",
    "\n",
    "print(\"\\nStep 4: Decision Making\")\n",
    "\n",
    "if Z_CAL > Z_TAB:\n",
    "    print(\"Reject the null hypothesis (H0). \\n\\nStep 5: Conclusion\\nThere is a significant difference in mean age between individuals who have had suicidal thoughts and those who have not.\")\n",
    "else:\n",
    "    print(\"Fail to reject the null hypothesis (H0).\\n\\nStep 5: Conclusion\\nThere is no significant difference in mean age between individuals who have had suicidal thoughts and those who have not.\")\n",
    "\n",
    "print(f\"Confidence Interval for the mean difference: ({lb}, {ub})\")\n"
   ]
  },
  {
   "cell_type": "markdown",
   "id": "99a31a46-d613-4e4e-a578-55e274084eca",
   "metadata": {},
   "source": [
    "## T_tab values for t test"
   ]
  },
  {
   "cell_type": "code",
   "execution_count": 11,
   "id": "e2746d3c-25a4-434e-8629-61dd09a4f37d",
   "metadata": {},
   "outputs": [],
   "source": [
    "def get_t_tab(df, alpha, tails):\n",
    "    t_table_1_tail = {\n",
    "        1: {0.1: 3.0777, 0.05: 6.3138, 0.01: 31.8205},\n",
    "        2: {0.1: 1.8856, 0.05: 2.9200, 0.01: 6.9646},\n",
    "        3: {0.1: 1.6377, 0.05: 2.3534, 0.01: 4.5407},\n",
    "        4: {0.1: 1.5332, 0.05: 2.1318, 0.01: 3.7469},\n",
    "        5: {0.1: 1.4759, 0.05: 2.0150, 0.01: 3.3649},\n",
    "        6: {0.1: 1.4398, 0.05: 1.9432, 0.01: 3.1427},\n",
    "        7: {0.1: 1.4149, 0.05: 1.8946, 0.01: 2.9980},\n",
    "        8: {0.1: 1.3968, 0.05: 1.8595, 0.01: 2.8965},\n",
    "        9: {0.1: 1.3830, 0.05: 1.8331, 0.01: 2.8214},\n",
    "        10: {0.1: 1.3722, 0.05: 1.8125, 0.01: 2.7638},\n",
    "        11: {0.1: 1.3634, 0.05: 1.7959, 0.01: 2.7181},\n",
    "        12: {0.1: 1.3562, 0.05: 1.7823, 0.01: 2.6810},\n",
    "        13: {0.1: 1.3502, 0.05: 1.7709, 0.01: 2.6503},\n",
    "        14: {0.1: 1.3450, 0.05: 1.7613, 0.01: 2.6245},\n",
    "        15: {0.1: 1.3406, 0.05: 1.7531, 0.01: 2.6025},\n",
    "        16: {0.1: 1.3368, 0.05: 1.7459, 0.01: 2.5835},\n",
    "        17: {0.1: 1.3334, 0.05: 1.7396, 0.01: 2.5669},\n",
    "        18: {0.1: 1.3304, 0.05: 1.7341, 0.01: 2.5524},\n",
    "        19: {0.1: 1.3277, 0.05: 1.7291, 0.01: 2.5395},\n",
    "        20: {0.1: 1.3253, 0.05: 1.7247, 0.01: 2.5280},\n",
    "        21: {0.1: 1.3232, 0.05: 1.7207, 0.01: 2.5176},\n",
    "        22: {0.1: 1.3212, 0.05: 1.7171, 0.01: 2.5083},\n",
    "        23: {0.1: 1.3195, 0.05: 1.7139, 0.01: 2.4999},\n",
    "        24: {0.1: 1.3178, 0.05: 1.7109, 0.01: 2.4922},\n",
    "        25: {0.1: 1.3163, 0.05: 1.7081, 0.01: 2.4851},\n",
    "        26: {0.1: 1.3150, 0.05: 1.7056, 0.01: 2.4786},\n",
    "        27: {0.1: 1.3137, 0.05: 1.7033, 0.01: 2.4727},\n",
    "        28: {0.1: 1.3125, 0.05: 1.7011, 0.01: 2.4671},\n",
    "        29: {0.1: 1.3114, 0.05: 1.6991, 0.01: 2.4620},\n",
    "        30: {0.1: 1.3104, 0.05: 1.6973, 0.01: 2.4573},\n",
    "    }\n",
    "\n",
    "    t_table_2_tail = {\n",
    "        1: {0.1: 6.3138, 0.05: 12.7062, 0.01: 63.6567},\n",
    "        2: {0.1: 2.9200, 0.05: 4.3027, 0.01: 9.9248},\n",
    "        3: {0.1: 2.3534, 0.05: 3.1824, 0.01: 5.8409},\n",
    "        4: {0.1: 2.1318, 0.05: 2.7764, 0.01: 4.6041},\n",
    "        5: {0.1: 2.0150, 0.05: 2.5706, 0.01: 4.0321},\n",
    "        6: {0.1: 1.9432, 0.05: 2.4469, 0.01: 3.7074},\n",
    "        7: {0.1: 1.8946, 0.05: 2.3646, 0.01: 3.4995},\n",
    "        8: {0.1: 1.8595, 0.05: 2.3060, 0.01: 3.3554},\n",
    "        9: {0.1: 1.8331, 0.05: 2.2622, 0.01: 3.2498},\n",
    "        10: {0.1: 1.8125, 0.05: 2.2281, 0.01: 3.1693},\n",
    "        11: {0.1: 1.7959, 0.05: 2.2010, 0.01: 3.1058},\n",
    "        12: {0.1: 1.7823, 0.05: 2.1788, 0.01: 3.0545},\n",
    "        13: {0.1: 1.7709, 0.05: 2.1604, 0.01: 3.0123},\n",
    "        14: {0.1: 1.7613, 0.05: 2.1448, 0.01: 2.9768},\n",
    "        15: {0.1: 1.7531, 0.05: 2.1314, 0.01: 2.9467},\n",
    "        16: {0.1: 1.7459, 0.05: 2.1199, 0.01: 2.9208},\n",
    "        17: {0.1: 1.7396, 0.05: 2.1098, 0.01: 2.8982},\n",
    "        18: {0.1: 1.7341, 0.05: 2.1009, 0.01: 2.8784},\n",
    "        19: {0.1: 1.7291, 0.05: 2.0930, 0.01: 2.8609},\n",
    "        20: {0.1: 1.7247, 0.05: 2.0860, 0.01: 2.8453},\n",
    "        21: {0.1: 1.7207, 0.05: 2.0796, 0.01: 2.8314},\n",
    "        22: {0.1: 1.7171, 0.05: 2.0739, 0.01: 2.8188},\n",
    "        23: {0.1: 1.7139, 0.05: 2.0687, 0.01: 2.8073},\n",
    "        24: {0.1: 1.7109, 0.05: 2.0639, 0.01: 2.7969},\n",
    "        25: {0.1: 1.7081, 0.05: 2.0595, 0.01: 2.7874},\n",
    "        26: {0.1: 1.7056, 0.05: 2.0555, 0.01: 2.7787},\n",
    "        27: {0.1: 1.7033, 0.05: 2.0518, 0.01: 2.7707},\n",
    "        28: {0.1: 1.7011, 0.05: 2.0484, 0.01: 2.7633},\n",
    "        29: {0.1: 1.6991, 0.05: 2.0452, 0.01: 2.7564},\n",
    "        30: {0.1: 1.6973, 0.05: 2.0423, 0.01: 2.7500},\n",
    "    }\n",
    "\n",
    "    t_table = t_table_1_tail if tails == 1 else t_table_2_tail\n",
    "\n",
    "    if df in t_table:\n",
    "        if alpha in t_table[df]:\n",
    "            return t_table[df][alpha]\n",
    "        else:\n",
    "            raise ValueError(f\"Invalid alpha value. Choose from {list(t_table[df].keys())}.\")\n",
    "    else:\n",
    "        raise ValueError(f\"Invalid degrees of freedom (df). Use a valid value available in the table.\")"
   ]
  },
  {
   "cell_type": "markdown",
   "id": "9cc28a5e-e0c2-4be5-be59-39ac3ba68b43",
   "metadata": {},
   "source": [
    "## Small One -Sample t- Test for Population Mean"
   ]
  },
  {
   "cell_type": "markdown",
   "id": "a4e4b59a-ba7d-4859-a500-e04ea9abe924",
   "metadata": {},
   "source": [
    "**Hypothesis Statements**"
   ]
  },
  {
   "cell_type": "markdown",
   "id": "628f736c-c489-4389-bec6-db522a9ddaea",
   "metadata": {},
   "source": [
    "**Null Hypothesis(H0):** The sample mean age of people with depression is equal to the hypothesized population mean age."
   ]
  },
  {
   "cell_type": "markdown",
   "id": "411e9eab-0d8f-4f24-963a-d95f22d15e13",
   "metadata": {},
   "source": [
    "**Alternative Hypothesis (Ha):** The sample mean age of people with depression is not equal to the hypothesized population mean age."
   ]
  },
  {
   "cell_type": "code",
   "execution_count": 13,
   "id": "f80ff3f1-c22b-4871-9bc0-cb3a357f614b",
   "metadata": {},
   "outputs": [
    {
     "name": "stdout",
     "output_type": "stream",
     "text": [
      "degrees_of_freedom:  19\n",
      "\n",
      "Step 1: Hypothesis statements:\n",
      "H0: The sample mean age of people with depression is equal to the hypothesized population mean age.\n",
      "H1: The sample mean age of people with depression is not equal to the hypothesized population mean age.\n",
      "\n",
      "Step 2: t_CAL calculation:\n",
      "t-cal: 3.470630476316396\n",
      "\n",
      "Step 3: t_TAB value:\n",
      "t-tab (at 0.05 significance level, 2-tailed test, 19 degrees of freedom): 2.093\n",
      "\n",
      "Step 4: Decision Making\n",
      "Reject the null hypothesis (H0).\n",
      "\n",
      "Step 5: Conclusion:\n",
      "The sample mean is significantly different from the hypothesized population mean.\n",
      "\n",
      "Confidence Interval: (23.42745212762959, 28.372547872370408)\n"
     ]
    }
   ],
   "source": [
    "import pandas as pd\n",
    "import numpy as np\n",
    "from scipy import stats\n",
    "\n",
    "df = pd.read_csv('C:\\\\Users\\\\DELL G15\\\\Downloads\\\\archive (4)\\\\final_depression_dataset_1.csv')\n",
    "\n",
    "df_depression = df[df['Depression'] == 'Yes']\n",
    "\n",
    "H0 = \"The sample mean age of people with depression is equal to the hypothesized population mean age.\"\n",
    "H1 = \"The sample mean age of people with depression is not equal to the hypothesized population mean age.\"\n",
    "\n",
    "mu_hypothesis = 30  # Hypothesized population mean age\n",
    "sample_size = 20\n",
    "alpha = 0.05\n",
    "tail = 2 \n",
    "\n",
    "sample = df_depression['Age'].sample(n=sample_size, random_state=42)\n",
    "\n",
    "n = len(sample)\n",
    "degrees_of_freedom = n - 1\n",
    "print(\"degrees_of_freedom: \",degrees_of_freedom)\n",
    "\n",
    "sample_mean = sample.mean()\n",
    "sample_std = sample.std()\n",
    "\n",
    "# Calculate t-calculated value\n",
    "num = abs(sample_mean - mu_hypothesis)\n",
    "den = (sample_std / np.sqrt(n-1))\n",
    "t_cal = num / den\n",
    "\n",
    "t_tab = get_t_tab(alpha=alpha,df=degrees_of_freedom, tails=tail)\n",
    "\n",
    "margin_of_error = t_tab * den\n",
    "lb = sample_mean - margin_of_error\n",
    "ub = sample_mean + margin_of_error\n",
    "\n",
    "print(\"\\nStep 1: Hypothesis statements:\")\n",
    "print(f\"H0: {H0}\")\n",
    "print(f\"H1: {H1}\")\n",
    "\n",
    "print(\"\\nStep 2: t_CAL calculation:\")\n",
    "print(f\"t-cal: {abs(t_cal)}\")\n",
    "\n",
    "print(\"\\nStep 3: t_TAB value:\")\n",
    "print(f\"t-tab (at {alpha} significance level, {tail}-tailed test, {degrees_of_freedom} degrees of freedom): {t_tab}\")\n",
    "\n",
    "print(\"\\nStep 4: Decision Making\")\n",
    "if abs(t_cal) > t_tab:\n",
    "    print(\"Reject the null hypothesis (H0).\\n\\nStep 5: Conclusion:\\nThe sample mean is significantly different from the hypothesized population mean.\")\n",
    "else:\n",
    "    print(\"Fail to reject the null hypothesis (H0).\\n\\nStep 5: Conclusion:\\nThere is no significant difference between the sample mean and the hypothesized population mean.\")\n",
    "\n",
    "print(f\"\\nConfidence Interval: ({lb:}, {ub:})\")\n"
   ]
  },
  {
   "cell_type": "markdown",
   "id": "5f800852-e0a3-4059-8fa6-9e9d0bc4452b",
   "metadata": {},
   "source": [
    "## Small Two-Sample t-Test for Population Mean"
   ]
  },
  {
   "cell_type": "markdown",
   "id": "9fe29ee6-b34c-495b-8c1e-6ea5c6b73922",
   "metadata": {},
   "source": [
    "**Hypothesis Statements**"
   ]
  },
  {
   "cell_type": "markdown",
   "id": "e0bd4fd6-bb6a-411b-a531-b8234e976bf6",
   "metadata": {},
   "source": [
    "**Null Hypothesis(H0):**  There is no significant difference in the average age between the two random samples."
   ]
  },
  {
   "cell_type": "markdown",
   "id": "5439221f-d431-4e21-8b47-12bc2778c28c",
   "metadata": {},
   "source": [
    "**Alternative Hypothesis(Ha):** There is a significant difference in the average age between the two random samples.\n"
   ]
  },
  {
   "cell_type": "code",
   "execution_count": 15,
   "id": "34f4d366-fce3-4510-8d13-7f004565bc4d",
   "metadata": {},
   "outputs": [
    {
     "name": "stdout",
     "output_type": "stream",
     "text": [
      "\n",
      "Step 1: Hypothesis statements:\n",
      "H0: There is no significant difference in the average age between individuals with and without depression.\n",
      "H1: There is a significant difference in the average age between individuals with and without depression.\n",
      "\n",
      "Step 2: t_CAL calculation:\n",
      "t-cal: 3.4357098088128692\n",
      "\n",
      "Step 3: t_TAB value:\n",
      "t-tab: (0.05 significance level, 2-tailed test, 28 degrees of freedom): 2.0484\n",
      "\n",
      "Step 4: Decision Making\n",
      "Reject the null hypothesis (H0).\n",
      "\n",
      "Step 5: Conclusion:\n",
      "There is a significant difference in the average age between individuals with and without depression.\n",
      "\n",
      "Step 6:\n",
      "Confidence Interval: (-24.26237189186773, -6.1376281081322706)\n"
     ]
    }
   ],
   "source": [
    "import pandas as pd\n",
    "import numpy as np\n",
    "from scipy import stats\n",
    "\n",
    "df = pd.read_csv('C:\\\\Users\\\\DELL G15\\\\Downloads\\\\archive (4)\\\\final_depression_dataset_1.csv')\n",
    "sample_size_A = 10\n",
    "sample_size_B = 20\n",
    "alpha = 0.05\n",
    "tail = 2  \n",
    "\n",
    "sample_A = df[df['Depression'] == 'Yes']['Age'].sample(n=sample_size_A, random_state=42)\n",
    "sample_B = df[df['Depression'] == 'No']['Age'].sample(n=sample_size_B, random_state=42)\n",
    "\n",
    "degrees_of_freedom = sample_size_A + sample_size_B - 2\n",
    "\n",
    "H0 = \"There is no significant difference in the average age between individuals with and without depression.\"\n",
    "H1 = \"There is a significant difference in the average age between individuals with and without depression.\"\n",
    "\n",
    "mean_diff = sample_A.mean() - sample_B.mean()\n",
    "\n",
    "s1 = sample_A.std()\n",
    "s2 = sample_B.std()\n",
    "pooled_variance = ((sample_size_A - 1) * s1**2 + (sample_size_B - 1) * s2**2) / degrees_of_freedom\n",
    "\n",
    "den = np.sqrt(pooled_variance * ((1 / sample_size_A) + (1 / sample_size_B)))\n",
    "t_cal = abs(mean_diff) / den\n",
    "t_tab = get_t_tab(alpha=alpha, df=degrees_of_freedom, tails=tail)\n",
    "\n",
    "margin_of_error = t_tab * den\n",
    "lb = mean_diff - margin_of_error\n",
    "ub = mean_diff + margin_of_error\n",
    "\n",
    "# Display results\n",
    "print(\"\\nStep 1: Hypothesis statements:\")\n",
    "print(f\"H0: {H0}\")\n",
    "print(f\"H1: {H1}\")\n",
    "\n",
    "print(\"\\nStep 2: t_CAL calculation:\")\n",
    "print(f\"t-cal: {t_cal}\")\n",
    "\n",
    "print(\"\\nStep 3: t_TAB value:\")\n",
    "print(f\"t-tab: ({alpha} significance level, {tail}-tailed test, {degrees_of_freedom} degrees of freedom): {t_tab}\")\n",
    "\n",
    "print(\"\\nStep 4: Decision Making\")\n",
    "if t_cal > t_tab:\n",
    "    print(\"Reject the null hypothesis (H0).\\n\\nStep 5: Conclusion:\\nThere is a significant difference in the average age between individuals with and without depression.\")\n",
    "else:\n",
    "    print(\"Fail to reject the null hypothesis (H0).\\n\\nStep 5: Conclusion:\\nThere is no significant difference in the average age between individuals with and without depression.\")\n",
    "\n",
    "print(\"\\nStep 6:\")\n",
    "print(f\"Confidence Interval: ({lb:}, {ub:})\")\n"
   ]
  },
  {
   "cell_type": "markdown",
   "id": "735ba35d-a7d5-4eea-a721-73b1e611165d",
   "metadata": {},
   "source": [
    "## One sample proportion test - z-val"
   ]
  },
  {
   "cell_type": "markdown",
   "id": "275e774c-0b12-4cd0-8d0a-97bca8e5962a",
   "metadata": {},
   "source": [
    "**Null Hypothesis (H0):** The proportion of males in the sample is equal to the hypothesized proportion, \n",
    "p=0.5 (indicating no significant difference)."
   ]
  },
  {
   "cell_type": "markdown",
   "id": "b111990b-797c-4ba3-8a0b-3e89a30dd8cb",
   "metadata": {},
   "source": [
    "**Alternative Hypothesis (H₁):** The proportion of males in the sample is different from \n",
    "\n",
    "p=0.5 (indicating a significant difference)."
   ]
  },
  {
   "cell_type": "code",
   "execution_count": 17,
   "id": "4c85ed7a-19d3-4fea-a776-f09d11e02eb2",
   "metadata": {},
   "outputs": [
    {
     "name": "stdout",
     "output_type": "stream",
     "text": [
      "male_count 241\n",
      "\n",
      "Step 1: Hypothesis statements: \n",
      "H0: p = 0.5\n",
      "H1: p != 0.5\n",
      "\n",
      "Step 2: Z_CAL calculation: \n",
      "Z-cal: 1.2657795235339377\n",
      "\n",
      "Step 3: Z_TAB value: \n",
      "Z-tab: (0.05 significance level,2 tailed test ): 1.96\n",
      "\n",
      "Step 4: Decision Making\n",
      "Fail to reject the null hypothesis (H0). \n",
      "\n",
      "Step 5: Conclusion\n",
      " The observed proportion of Male is not significantly different from 0.5.\n",
      "Step 6: \n",
      "Confidence Interval: (0.48372722103835714, 0.5756134383023023)\n"
     ]
    }
   ],
   "source": [
    "\n",
    "import numpy as np\n",
    "from scipy import stats\n",
    "\n",
    "df = pd.read_csv('C:\\\\Users\\\\DELL G15\\\\Downloads\\\\archive (4)\\\\final_depression_dataset_1.csv')\n",
    "\n",
    "p_hypothesis = p = 0.5\n",
    "df = df[df[\"Depression\"]==\"Yes\"]\n",
    "\n",
    "male_count = df[df['Gender'] == 'Male'].shape[0]\n",
    "print(\"male_count\", male_count)\n",
    "\n",
    "\n",
    "total_observations = df.shape[0]\n",
    "\n",
    "p_cap = male_count / total_observations\n",
    "q = 1 - p\n",
    "\n",
    "alpha = 0.05\n",
    "tail = 2\n",
    "\n",
    "z_tab = get_Z_TAB(side=tail,significance_level=alpha)\n",
    "\n",
    "num = abs(p_cap - p)\n",
    "den = (p * q / total_observations)**0.5\n",
    "\n",
    "\n",
    "z_cal = num/den\n",
    "\n",
    "lb = p_cap - z_tab*den\n",
    "ub = p_cap + z_tab*den\n",
    "\n",
    "H0 = \"p = \"+str(p)\n",
    "H1 = \"p != \"+str(p)\n",
    "\n",
    "print(\"\\nStep 1: Hypothesis statements: \")\n",
    "print(f\"H0: {H0}\")\n",
    "print(f\"H1: {H1}\")\n",
    "\n",
    "print(\"\\nStep 2: Z_CAL calculation: \")\n",
    "print(f\"Z-cal: {abs(z_cal)}\")\n",
    "\n",
    "print(\"\\nStep 3: Z_TAB value: \")\n",
    "print(f\"Z-tab: ({alpha} significance level,{tail} tailed test ): {z_tab}\")\n",
    "\n",
    "print(\"\\nStep 4: Decision Making\")\n",
    "if z_cal > z_tab:\n",
    "    print(f\"Reject the null hypothesis (H0). \\n\\nStep 5: Conclusion\\n The observed proportion of Male is significantly different from {p_hypothesis}.\")\n",
    "else:\n",
    "    print(f\"Fail to reject the null hypothesis (H0). \\n\\nStep 5: Conclusion\\n The observed proportion of Male is not significantly different from {p_hypothesis}.\")\n",
    "\n",
    "print(f\"Step 6: \\nConfidence Interval: ({lb}, {ub})\")"
   ]
  },
  {
   "cell_type": "markdown",
   "id": "82b08fc0-82f1-446d-905f-a3d7f669b7e7",
   "metadata": {},
   "source": [
    "## Two sample proportion test"
   ]
  },
  {
   "cell_type": "markdown",
   "id": "9f4a4c4e-dffc-4bd4-8dd8-d167a6391963",
   "metadata": {},
   "source": [
    "Compares proportions of males (having depression ) with or without Family History of Mental Illness"
   ]
  },
  {
   "cell_type": "markdown",
   "id": "4208d397-704a-45aa-bad2-93ec6d0d1819",
   "metadata": {},
   "source": [
    "**Hypothesis Statements**\n",
    "<br>H0: p_A = p_B\n",
    "<br>H1: Difference in proportions (p_A != p_B)"
   ]
  },
  {
   "cell_type": "code",
   "execution_count": 19,
   "id": "8fcfae70-ad44-4546-b0e8-03198821972e",
   "metadata": {},
   "outputs": [
    {
     "name": "stdout",
     "output_type": "stream",
     "text": [
      "\n",
      "Step 1: Hypothesis statements: \n",
      "H0: p_A = p_B\n",
      "H1: Difference in proportions (p_A != p_B)\n",
      "\n",
      "Step 2: Z_CAL calculation: \n",
      "Z-cal: 0.4422315897018067\n",
      "\n",
      "Step 3: Z_TAB value: \n",
      "Z-tab: (0.05 significance level, 2-tailed test): 1.96\n",
      "\n",
      "Step 4: Decision Making\n",
      "Fail to reject the null hypothesis (H0). \n",
      "\n",
      "Step 5: Conclusion\n",
      " The proportions of Male in both groups are not significantly different.\n",
      "Step 6: \n",
      "Confidence Interval: (-0.07103709941356075, 0.11243320330966468)\n"
     ]
    }
   ],
   "source": [
    "\n",
    "import numpy as np\n",
    "from scipy import stats\n",
    "\n",
    "df = pd.read_csv('C:\\\\Users\\\\DELL G15\\\\Downloads\\\\archive (4)\\\\final_depression_dataset_1.csv')\n",
    "alpha= 0.05\n",
    "df_1=df[df['Depression']=='Yes']\n",
    "group_A = df_1[df_1['Family History of Mental Illness'] == 'Yes']\n",
    "group_B = df_1[df_1['Family History of Mental Illness'] == 'No']\n",
    "\n",
    "X_A = group_A[group_A['Gender'] == 'Male'].shape[0]\n",
    "X_B = group_B[group_B['Gender'] == 'Male'].shape[0]\n",
    "\n",
    "p_A = group_A['Gender'].value_counts(normalize=True)['Male']\n",
    "p_B = group_B['Gender'].value_counts(normalize=True)['Male']\n",
    "\n",
    "n_A = len(group_A)\n",
    "n_B = len(group_B)\n",
    "\n",
    "p_A_cap = X_A / n_A\n",
    "p_B_cap = X_B / n_B\n",
    "\n",
    "p_bar = (X_A+X_B) / (n_A+n_B)\n",
    "q_bar = 1 - p_bar\n",
    "\n",
    "num = abs(p_A_cap - p_B_cap)\n",
    "den = (p_bar * q_bar * ((1/n_A) + (1/n_B)))**0.5\n",
    "\n",
    "z_cal = num/den\n",
    "z_tab = get_Z_TAB(side=2,significance_level=alpha)\n",
    "\n",
    "lb = num - z_tab*den\n",
    "ub = num + z_tab*den\n",
    "\n",
    "H0 = f\"p_A = p_B\"\n",
    "H1 = f\"Difference in proportions (p_A != p_B)\"\n",
    "\n",
    "print(\"\\nStep 1: Hypothesis statements: \")\n",
    "print(f\"H0: {H0}\")\n",
    "print(f\"H1: {H1}\")\n",
    "\n",
    "print(\"\\nStep 2: Z_CAL calculation: \")\n",
    "print(f\"Z-cal: {abs(z_cal)}\")\n",
    "\n",
    "print(\"\\nStep 3: Z_TAB value: \")\n",
    "print(f\"Z-tab: ({alpha} significance level, 2-tailed test): {z_tab}\")\n",
    "\n",
    "print(\"\\nStep 4: Decision Making\")\n",
    "if abs(z_cal) > z_tab:\n",
    "    print(f\"Reject the null hypothesis (H0). \\n\\nStep 5: Conclusion\\n The proportions of Male in both groups are significantly different.\")\n",
    "else:\n",
    "    print(f\"Fail to reject the null hypothesis (H0). \\n\\nStep 5: Conclusion\\n The proportions of Male in both groups are not significantly different.\")\n",
    "\n",
    "print(f\"Step 6: \\nConfidence Interval: ({lb}, {ub})\")"
   ]
  },
  {
   "cell_type": "markdown",
   "id": "557c8fc7-b1f7-46ef-af39-459d98709c73",
   "metadata": {},
   "source": [
    "**Thank You !**"
   ]
  }
 ],
 "metadata": {
  "kernelspec": {
   "display_name": "Python 3 (ipykernel)",
   "language": "python",
   "name": "python3"
  },
  "language_info": {
   "codemirror_mode": {
    "name": "ipython",
    "version": 3
   },
   "file_extension": ".py",
   "mimetype": "text/x-python",
   "name": "python",
   "nbconvert_exporter": "python",
   "pygments_lexer": "ipython3",
   "version": "3.12.4"
  }
 },
 "nbformat": 4,
 "nbformat_minor": 5
}
