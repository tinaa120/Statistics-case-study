{
 "cells": [
  {
   "cell_type": "markdown",
   "id": "224d4062-c9f5-491f-941a-377239f98a12",
   "metadata": {},
   "source": [
    "  ### Statistics for CS\n",
    " **Section A**\n",
    "  <br> **5th sem**\n",
    "### CASE STUDY"
   ]
  },
  {
   "cell_type": "markdown",
   "id": "2deb14d5-e7d3-4ad3-a0c2-69b9b9728d29",
   "metadata": {},
   "source": [
    "### GROUP MEMBERS \n",
    " <br> **LAXMI**(22BCS059)\n",
    "<br> **ARPITA**(22BCS017)\n",
    "<br> **B. BABITHA**(22BCS026)\n",
    "\n",
    "## **Depression Dataset**\n"
   ]
  },
  {
   "cell_type": "markdown",
   "id": "62cd97ed-354e-47d6-9c87-8ef6c09a3b38",
   "metadata": {},
   "source": [
    "## UNIT-I\n",
    "\n",
    "### Sampling Techniques and Data Collection Methods"
   ]
  },
  {
   "cell_type": "markdown",
   "id": "7dc6176a-2de7-4348-88db-c3ad4640a955",
   "metadata": {},
   "source": [
    "**Probability Sampling Methods:**"
   ]
  },
  {
   "cell_type": "markdown",
   "id": "3b4a01c9-6245-47ec-8e59-ca44e9fddc39",
   "metadata": {},
   "source": [
    "**1.Simple Random Sampling**"
   ]
  },
  {
   "cell_type": "markdown",
   "id": "a4ea5eaf-b239-4e6e-b859-d1f5f5c43007",
   "metadata": {},
   "source": [
    " Randomly selects n rows from the data."
   ]
  },
  {
   "cell_type": "code",
   "execution_count": 1,
   "id": "52745290-614d-49a8-84e3-b62d11a6e446",
   "metadata": {},
   "outputs": [
    {
     "name": "stdout",
     "output_type": "stream",
     "text": [
      "Simple Random Sampling:\n",
      "              Name  Gender  Age       City Working Professional or Student  \\\n",
      "1850       Kartik    Male   47     Rajkot            Working Professional   \n",
      "245       Hrithik    Male   41  Ahmedabad            Working Professional   \n",
      "1323       Aniket    Male   38     Bhopal            Working Professional   \n",
      "1736       Chhavi  Female   43      Patna            Working Professional   \n",
      "1273      Kashish  Female   40  Faridabad            Working Professional   \n",
      "2209        Darsh    Male   46    Lucknow            Working Professional   \n",
      "152        Shreya  Female   34  Faridabad                         Student   \n",
      "881   Raghavendra    Male   58    Lucknow            Working Professional   \n",
      "505       Reyansh    Male   38  Bangalore            Working Professional   \n",
      "1505        Pooja  Female   46      Surat            Working Professional   \n",
      "\n",
      "             Profession  Academic Pressure  Work Pressure  CGPA  \\\n",
      "1850          Architect                NaN            1.0   NaN   \n",
      "245          Pharmacist                NaN            3.0   NaN   \n",
      "1323  Software Engineer                NaN            4.0   NaN   \n",
      "1736     Content Writer                NaN            3.0   NaN   \n",
      "1273  Marketing Manager                NaN            2.0   NaN   \n",
      "2209    Sales Executive                NaN            4.0   NaN   \n",
      "152                 NaN                3.0            NaN  9.49   \n",
      "881               Pilot                NaN            4.0   NaN   \n",
      "505   Travel Consultant                NaN            1.0   NaN   \n",
      "1505         Consultant                NaN            5.0   NaN   \n",
      "\n",
      "      Study Satisfaction  Job Satisfaction     Sleep Duration Dietary Habits  \\\n",
      "1850                 NaN               3.0          7-8 hours        Healthy   \n",
      "245                  NaN               2.0          7-8 hours      Unhealthy   \n",
      "1323                 NaN               1.0          7-8 hours       Moderate   \n",
      "1736                 NaN               2.0  Less than 5 hours        Healthy   \n",
      "1273                 NaN               4.0  More than 8 hours       Moderate   \n",
      "2209                 NaN               1.0          7-8 hours      Unhealthy   \n",
      "152                  4.0               NaN  Less than 5 hours      Unhealthy   \n",
      "881                  NaN               5.0  More than 8 hours       Moderate   \n",
      "505                  NaN               2.0  Less than 5 hours      Unhealthy   \n",
      "1505                 NaN               4.0  Less than 5 hours        Healthy   \n",
      "\n",
      "       Degree Have you ever had suicidal thoughts ?  Work/Study Hours  \\\n",
      "1850   B.Arch                                   Yes                 1   \n",
      "245   M.Pharm                                    No                 2   \n",
      "1323      BSc                                    No                 2   \n",
      "1736     B.Ed                                   Yes                 9   \n",
      "1273       MA                                    No                11   \n",
      "2209      MBA                                   Yes                 9   \n",
      "152        BE                                   Yes                12   \n",
      "881       BCA                                   Yes                 5   \n",
      "505       MHM                                    No                 9   \n",
      "1505    B.Com                                    No                 3   \n",
      "\n",
      "      Financial Stress Family History of Mental Illness Depression  \n",
      "1850                 4                              Yes         No  \n",
      "245                  3                               No         No  \n",
      "1323                 3                              Yes         No  \n",
      "1736                 3                              Yes         No  \n",
      "1273                 4                              Yes         No  \n",
      "2209                 2                              Yes         No  \n",
      "152                  1                              Yes        Yes  \n",
      "881                  5                              Yes         No  \n",
      "505                  2                              Yes         No  \n",
      "1505                 5                               No         No  \n"
     ]
    }
   ],
   "source": [
    "import pandas as pd\n",
    "data  = pd.read_csv('C:\\\\Users\\\\DELL G15\\\\Downloads\\\\archive (4)\\\\final_depression_dataset_1.csv')\n",
    "def simple_random_sampling(data, n):\n",
    "    return data.sample(n=n)\n",
    "\n",
    "sample_random = simple_random_sampling(data, 10)\n",
    "print(\"Simple Random Sampling:\\n\", sample_random)"
   ]
  },
  {
   "cell_type": "markdown",
   "id": "e7519d06-06eb-43f7-96fc-3bffcac7c5f4",
   "metadata": {},
   "source": [
    "**2. Systematic Sampling**"
   ]
  },
  {
   "cell_type": "markdown",
   "id": "a3316ede-2edd-483d-95c0-9b6c4e3d8227",
   "metadata": {},
   "source": [
    "Selects every k-th element by setting the step size."
   ]
  },
  {
   "cell_type": "code",
   "execution_count": 3,
   "id": "d031e42d-c6fd-4360-bf41-2ad842c0d53d",
   "metadata": {},
   "outputs": [
    {
     "name": "stdout",
     "output_type": "stream",
     "text": [
      "Systematic Sampling:\n",
      "            Name  Gender  Age       City Working Professional or Student  \\\n",
      "0         Pooja  Female   37  Ghaziabad            Working Professional   \n",
      "125      Aahana  Female   33     Rajkot                         Student   \n",
      "250   Kartikeya    Male   57     Meerut            Working Professional   \n",
      "375       Janvi  Female   20     Meerut            Working Professional   \n",
      "500      Atharv    Male   58       Agra            Working Professional   \n",
      "625        Anvi  Female   28   Vadodara                         Student   \n",
      "750      Ayansh    Male   34       Agra                         Student   \n",
      "875      Prisha  Female   48    Lucknow            Working Professional   \n",
      "1000        Jai    Male   54     Jaipur            Working Professional   \n",
      "1125     Atharv    Male   60   Vadodara            Working Professional   \n",
      "1250     Harsha    Male   22     Nashik            Working Professional   \n",
      "1375      Rupak    Male   23     Rajkot            Working Professional   \n",
      "1500     Siddhi  Female   24       Agra                         Student   \n",
      "1625      Kriti  Female   19     Meerut            Working Professional   \n",
      "1750      Aarav    Male   18   Ludhiana                         Student   \n",
      "1875     Vikram    Male   54      Delhi            Working Professional   \n",
      "\n",
      "             Profession  Academic Pressure  Work Pressure  CGPA  \\\n",
      "0               Teacher                NaN            2.0   NaN   \n",
      "125                 NaN                3.0            NaN  8.52   \n",
      "250             Manager                NaN            2.0   NaN   \n",
      "375                 NaN                NaN            5.0   NaN   \n",
      "500         Electrician                NaN            5.0   NaN   \n",
      "625                 NaN                1.0            NaN  5.83   \n",
      "750                 NaN                1.0            NaN  9.36   \n",
      "875        Entrepreneur                NaN            5.0   NaN   \n",
      "1000     Civil Engineer                NaN            5.0   NaN   \n",
      "1125            Manager                NaN            3.0   NaN   \n",
      "1250  Travel Consultant                NaN            3.0   NaN   \n",
      "1375         Consultant                NaN            4.0   NaN   \n",
      "1500                NaN                4.0            NaN  8.21   \n",
      "1625                NaN                NaN            3.0   NaN   \n",
      "1750                NaN                3.0            NaN  5.03   \n",
      "1875              Judge                NaN            3.0   NaN   \n",
      "\n",
      "      Study Satisfaction  Job Satisfaction     Sleep Duration Dietary Habits  \\\n",
      "0                    NaN               4.0          7-8 hours       Moderate   \n",
      "125                  2.0               NaN          7-8 hours       Moderate   \n",
      "250                  NaN               1.0          5-6 hours      Unhealthy   \n",
      "375                  NaN               2.0  More than 8 hours       Moderate   \n",
      "500                  NaN               4.0  Less than 5 hours      Unhealthy   \n",
      "625                  2.0               NaN          5-6 hours        Healthy   \n",
      "750                  3.0               NaN  More than 8 hours       Moderate   \n",
      "875                  NaN               1.0          5-6 hours        Healthy   \n",
      "1000                 NaN               4.0  More than 8 hours        Healthy   \n",
      "1125                 NaN               1.0  More than 8 hours        Healthy   \n",
      "1250                 NaN               4.0          7-8 hours        Healthy   \n",
      "1375                 NaN               3.0  More than 8 hours      Unhealthy   \n",
      "1500                 4.0               NaN          7-8 hours       Moderate   \n",
      "1625                 NaN               2.0  Less than 5 hours        Healthy   \n",
      "1750                 4.0               NaN          5-6 hours        Healthy   \n",
      "1875                 NaN               3.0  Less than 5 hours      Unhealthy   \n",
      "\n",
      "        Degree Have you ever had suicidal thoughts ?  Work/Study Hours  \\\n",
      "0           MA                                    No                 6   \n",
      "125        MSc                                    No                11   \n",
      "250        BHM                                    No                 4   \n",
      "375   Class 12                                   Yes                 0   \n",
      "500         ME                                    No                 1   \n",
      "625        BBA                                   Yes                 3   \n",
      "750        BBA                                   Yes                 8   \n",
      "875         ME                                   Yes                 5   \n",
      "1000       MSc                                    No                 2   \n",
      "1125       MHM                                   Yes                 2   \n",
      "1250       BHM                                   Yes                10   \n",
      "1375       MCA                                    No                 3   \n",
      "1500   B.Pharm                                    No                 0   \n",
      "1625  Class 12                                   Yes                 3   \n",
      "1750  Class 12                                   Yes                 8   \n",
      "1875       LLB                                    No                11   \n",
      "\n",
      "      Financial Stress Family History of Mental Illness Depression  \n",
      "0                    2                               No         No  \n",
      "125                  5                              Yes         No  \n",
      "250                  4                               No         No  \n",
      "375                  2                               No        Yes  \n",
      "500                  1                               No         No  \n",
      "625                  4                              Yes         No  \n",
      "750                  1                               No         No  \n",
      "875                  1                              Yes         No  \n",
      "1000                 4                               No         No  \n",
      "1125                 2                               No         No  \n",
      "1250                 2                              Yes        Yes  \n",
      "1375                 1                               No         No  \n",
      "1500                 4                              Yes         No  \n",
      "1625                 5                               No        Yes  \n",
      "1750                 4                              Yes        Yes  \n",
      "1875                 4                              Yes         No  \n"
     ]
    }
   ],
   "source": [
    "import pandas as pd\n",
    "import numpy as np\n",
    "data  = pd.read_csv('C:\\\\Users\\\\DELL G15\\\\Downloads\\\\archive (4)\\\\final_depression_dataset_1.csv')\n",
    "def systematic_sampling(data, sample_size):\n",
    "    step = 2000 // sample_size \n",
    "    indices = np.arange(0, len(data), step)\n",
    "    return data.iloc[indices[:sample_size]]\n",
    "\n",
    "sample_systematic = systematic_sampling(data, 16)\n",
    "print(\"Systematic Sampling:\\n\", sample_systematic)"
   ]
  },
  {
   "cell_type": "markdown",
   "id": "13a669da-62b2-4674-bf02-59375a46062c",
   "metadata": {},
   "source": [
    "**3.Stratified Sampling:**"
   ]
  },
  {
   "cell_type": "markdown",
   "id": "a7e3c6f9-2c4f-41f7-bf34-39a031d24eba",
   "metadata": {},
   "source": [
    "Ensures representation from each subgroup by grouping by a column (e.g., Gender) and then sampling equally from each group.\n",
    "<br>Stratify by 'Gender', selecting a total of 10 samples across groups"
   ]
  },
  {
   "cell_type": "code",
   "execution_count": 5,
   "id": "9d2d9261-495f-42c8-aa5d-ecab3dad5bf0",
   "metadata": {},
   "outputs": [
    {
     "name": "stdout",
     "output_type": "stream",
     "text": [
      "Stratified Sampling:\n",
      "           Name  Age           City Working Professional or Student  \\\n",
      "2394     Sanya   40         Meerut            Working Professional   \n",
      "27    Aaradhya   51    Vasai-Virar            Working Professional   \n",
      "1156      Mira   36  Visakhapatnam            Working Professional   \n",
      "1994   Tanisha   49          Delhi            Working Professional   \n",
      "369     Saanvi   27          Patna                         Student   \n",
      "2460    Keshav   21         Jaipur                         Student   \n",
      "763   Shivansh   48  Visakhapatnam            Working Professional   \n",
      "1194     Ritik   51        Kolkata            Working Professional   \n",
      "2247    Chirag   28       Varanasi                         Student   \n",
      "1055     Aarav   48         Kalyan            Working Professional   \n",
      "\n",
      "               Profession  Academic Pressure  Work Pressure  CGPA  \\\n",
      "2394              Teacher                NaN            5.0   NaN   \n",
      "27                    NaN                NaN            5.0   NaN   \n",
      "1156         Entrepreneur                NaN            5.0   NaN   \n",
      "1994       Civil Engineer                NaN            5.0   NaN   \n",
      "369                   NaN                4.0            NaN  6.42   \n",
      "2460                  NaN                2.0            NaN  8.23   \n",
      "763   Mechanical Engineer                NaN            2.0   NaN   \n",
      "1194                  NaN                NaN            4.0   NaN   \n",
      "2247                  NaN                3.0            NaN  7.70   \n",
      "1055                 Chef                NaN            4.0   NaN   \n",
      "\n",
      "      Study Satisfaction  Job Satisfaction     Sleep Duration Dietary Habits  \\\n",
      "2394                 NaN               4.0  Less than 5 hours        Healthy   \n",
      "27                   NaN               5.0          7-8 hours        Healthy   \n",
      "1156                 NaN               3.0  More than 8 hours        Healthy   \n",
      "1994                 NaN               5.0  Less than 5 hours        Healthy   \n",
      "369                  2.0               NaN          7-8 hours      Unhealthy   \n",
      "2460                 3.0               NaN          5-6 hours      Unhealthy   \n",
      "763                  NaN               1.0  More than 8 hours       Moderate   \n",
      "1194                 NaN               2.0  Less than 5 hours        Healthy   \n",
      "2247                 5.0               NaN          5-6 hours       Moderate   \n",
      "1055                 NaN               1.0          7-8 hours       Moderate   \n",
      "\n",
      "        Degree Have you ever had suicidal thoughts ?  Work/Study Hours  \\\n",
      "2394       MCA                                    No                 9   \n",
      "27    Class 12                                   Yes                 7   \n",
      "1156       MBA                                    No                 7   \n",
      "1994        BE                                   Yes                 4   \n",
      "369        MSc                                   Yes                 0   \n",
      "2460  Class 12                                   Yes                 6   \n",
      "763     M.Tech                                    No                 2   \n",
      "1194  Class 12                                   Yes                 0   \n",
      "2247     B.Com                                   Yes                10   \n",
      "1055       MHM                                    No                11   \n",
      "\n",
      "      Financial Stress Family History of Mental Illness Depression  \n",
      "2394                 5                               No         No  \n",
      "27                   5                               No         No  \n",
      "1156                 4                              Yes         No  \n",
      "1994                 1                               No         No  \n",
      "369                  2                               No        Yes  \n",
      "2460                 5                              Yes        Yes  \n",
      "763                  2                               No         No  \n",
      "1194                 5                              Yes         No  \n",
      "2247                 4                              Yes        Yes  \n",
      "1055                 3                              Yes         No  \n"
     ]
    }
   ],
   "source": [
    "import pandas as pd\n",
    "import numpy as np\n",
    "data  = pd.read_csv('C:\\\\Users\\\\DELL G15\\\\Downloads\\\\archive (4)\\\\final_depression_dataset_1.csv')\n",
    "def stratified_sampling(data, stratify_by, sample_size):\n",
    "    strata = data.groupby(stratify_by, group_keys=False)\n",
    "    stratified_sample = strata.apply(lambda x: x.sample(n=sample_size // len(strata)), include_groups=False)\n",
    "    return stratified_sample\n",
    "\n",
    "sample_stratified = stratified_sampling(data, 'Gender', 10)\n",
    "print(\"Stratified Sampling:\\n\", sample_stratified)"
   ]
  },
  {
   "cell_type": "markdown",
   "id": "36d6128d-0a26-4c7d-be90-79c20b8a1849",
   "metadata": {},
   "source": [
    "**4. Cluster Sampling**"
   ]
  },
  {
   "cell_type": "markdown",
   "id": "364bc2c9-4b14-4b1f-bb7a-f76c5a3a6328",
   "metadata": {},
   "source": [
    " Randomly selects specific clusters (e.g., cities), including all data from the selected clusters.\n",
    " <br>Cluster by 'City', selecting 2 random cities, with 5 samples from each city"
   ]
  },
  {
   "cell_type": "code",
   "execution_count": 7,
   "id": "07ce5949-2bd6-45af-8af5-48e5c2f0ddcf",
   "metadata": {},
   "outputs": [
    {
     "name": "stdout",
     "output_type": "stream",
     "text": [
      "Cluster Sampling:\n",
      "       Name  Gender  Age Working Professional or Student           Profession  \\\n",
      "0   Tushar    Male   48            Working Professional              Teacher   \n",
      "1   Raghav    Male   60            Working Professional  Mechanical Engineer   \n",
      "2     Riya  Female   48            Working Professional       Civil Engineer   \n",
      "3    Vibha  Female   58            Working Professional              Teacher   \n",
      "4   Khushi  Female   31                         Student                  NaN   \n",
      "5  Shanaya  Female   33            Working Professional           HR Manager   \n",
      "6     Pihu  Female   57            Working Professional                Pilot   \n",
      "7    Palak  Female   40            Working Professional               Doctor   \n",
      "8    Aariv    Male   40            Working Professional                 Chef   \n",
      "9     Asha  Female   46            Working Professional  Mechanical Engineer   \n",
      "\n",
      "   Academic Pressure  Work Pressure  CGPA  Study Satisfaction  \\\n",
      "0                NaN            5.0   NaN                 NaN   \n",
      "1                NaN            4.0   NaN                 NaN   \n",
      "2                NaN            3.0   NaN                 NaN   \n",
      "3                NaN            1.0   NaN                 NaN   \n",
      "4                5.0            NaN  5.79                 4.0   \n",
      "5                NaN            2.0   NaN                 NaN   \n",
      "6                NaN            1.0   NaN                 NaN   \n",
      "7                NaN            2.0   NaN                 NaN   \n",
      "8                NaN            5.0   NaN                 NaN   \n",
      "9                NaN            4.0   NaN                 NaN   \n",
      "\n",
      "   Job Satisfaction     Sleep Duration Dietary Habits   Degree  \\\n",
      "0               5.0  Less than 5 hours        Healthy      MBA   \n",
      "1               1.0          7-8 hours        Healthy   M.Tech   \n",
      "2               1.0          7-8 hours       Moderate      MCA   \n",
      "3               3.0          5-6 hours      Unhealthy      BCA   \n",
      "4               NaN          5-6 hours        Healthy  M.Pharm   \n",
      "5               1.0          5-6 hours       Moderate      BBA   \n",
      "6               5.0          7-8 hours        Healthy      BSc   \n",
      "7               1.0          7-8 hours        Healthy     MBBS   \n",
      "8               4.0  Less than 5 hours        Healthy      BHM   \n",
      "9               2.0          5-6 hours        Healthy       BE   \n",
      "\n",
      "  Have you ever had suicidal thoughts ?  Work/Study Hours  Financial Stress  \\\n",
      "0                                    No                 3                 4   \n",
      "1                                   Yes                 4                 3   \n",
      "2                                   Yes                 2                 1   \n",
      "3                                   Yes                11                 4   \n",
      "4                                   Yes                 6                 4   \n",
      "5                                   Yes                 5                 1   \n",
      "6                                    No                 9                 4   \n",
      "7                                    No                11                 5   \n",
      "8                                    No                12                 1   \n",
      "9                                    No                 2                 2   \n",
      "\n",
      "  Family History of Mental Illness Depression  \n",
      "0                               No         No  \n",
      "1                               No         No  \n",
      "2                              Yes         No  \n",
      "3                               No         No  \n",
      "4                               No        Yes  \n",
      "5                              Yes         No  \n",
      "6                              Yes         No  \n",
      "7                               No         No  \n",
      "8                              Yes         No  \n",
      "9                               No         No  \n"
     ]
    }
   ],
   "source": [
    "import pandas as pd\n",
    "import numpy as np\n",
    "data  = pd.read_csv('C:\\\\Users\\\\DELL G15\\\\Downloads\\\\archive (4)\\\\final_depression_dataset_1.csv')\n",
    "def cluster_sampling(data, cluster_by, num_clusters, sample_size_per_cluster):\n",
    "    clusters = data[cluster_by].unique()\n",
    "    selected_clusters = np.random.choice(clusters, size=num_clusters, replace=False)\n",
    "    cluster_sample = data[data[cluster_by].isin(selected_clusters)]\n",
    "    return cluster_sample.groupby(cluster_by, group_keys=False).apply(lambda x: x.sample(n=sample_size_per_cluster), include_groups=False).reset_index(drop=True)\n",
    "\n",
    "sample_cluster = cluster_sampling(data, 'City', 2, 5)\n",
    "print(\"Cluster Sampling:\\n\", sample_cluster)"
   ]
  },
  {
   "cell_type": "markdown",
   "id": "8ee83083-bb6c-4e42-ad55-2eed83e961b0",
   "metadata": {},
   "source": [
    "**5.Multi-Stage Sampling:**"
   ]
  },
  {
   "cell_type": "markdown",
   "id": "9aa6ffed-b766-4ed7-9f68-237ab55a1504",
   "metadata": {},
   "source": [
    "Selects a random cluster and samples sample_size_per_cluster rows within it.\n",
    "<br> Select one City cluster, then 5 samples within that city"
   ]
  },
  {
   "cell_type": "code",
   "execution_count": 9,
   "id": "68485fde-1597-4aeb-8da5-cb7fc0ed29b8",
   "metadata": {},
   "outputs": [
    {
     "name": "stdout",
     "output_type": "stream",
     "text": [
      "Multi-Stage Sampling:\n",
      "         Name  Gender  Age       City Working Professional or Student  \\\n",
      "487     Riya  Female   24  Ahmedabad            Working Professional   \n",
      "1659   Kavya  Female   40  Ahmedabad            Working Professional   \n",
      "74    Shivam    Male   47  Ahmedabad            Working Professional   \n",
      "779   Bhavna  Female   32  Ahmedabad                         Student   \n",
      "1425  Charvi  Female   48  Ahmedabad            Working Professional   \n",
      "\n",
      "     Profession  Academic Pressure  Work Pressure  CGPA  Study Satisfaction  \\\n",
      "487     Teacher                NaN            1.0   NaN                 NaN   \n",
      "1659    Plumber                NaN            2.0   NaN                 NaN   \n",
      "74      Teacher                NaN            2.0   NaN                 NaN   \n",
      "779         NaN                2.0            NaN  5.99                 3.0   \n",
      "1425        NaN                NaN            3.0   NaN                 NaN   \n",
      "\n",
      "      Job Satisfaction     Sleep Duration Dietary Habits    Degree  \\\n",
      "487                3.0  Less than 5 hours        Healthy      B.Ed   \n",
      "1659               5.0  More than 8 hours        Healthy       MCA   \n",
      "74                 1.0          7-8 hours        Healthy    B.Arch   \n",
      "779                NaN          7-8 hours       Moderate    B.Arch   \n",
      "1425               5.0          5-6 hours        Healthy  Class 12   \n",
      "\n",
      "     Have you ever had suicidal thoughts ?  Work/Study Hours  \\\n",
      "487                                     No                 9   \n",
      "1659                                    No                10   \n",
      "74                                     Yes                11   \n",
      "779                                     No                 6   \n",
      "1425                                   Yes                 4   \n",
      "\n",
      "      Financial Stress Family History of Mental Illness Depression  \n",
      "487                  1                              Yes         No  \n",
      "1659                 5                              Yes         No  \n",
      "74                   1                               No         No  \n",
      "779                  1                               No         No  \n",
      "1425                 4                              Yes         No  \n"
     ]
    }
   ],
   "source": [
    "import pandas as pd\n",
    "import numpy as np\n",
    "data  = pd.read_csv('C:\\\\Users\\\\DELL G15\\\\Downloads\\\\archive (4)\\\\final_depression_dataset_1.csv')\n",
    "def multi_stage_sampling(data, cluster_by, sample_size_per_cluster):\n",
    "    clusters = data[cluster_by].unique()\n",
    "    selected_cluster = np.random.choice(clusters, size=1)[0]\n",
    "    cluster_data = data[data[cluster_by] == selected_cluster]\n",
    "    return cluster_data.sample(n=sample_size_per_cluster)\n",
    "\n",
    "sample_multi_stage = multi_stage_sampling(data, 'City', 5)\n",
    "print(\"Multi-Stage Sampling:\\n\", sample_multi_stage)"
   ]
  },
  {
   "cell_type": "markdown",
   "id": "36e4b924-0feb-484c-b70f-5ab7915085f9",
   "metadata": {},
   "source": [
    "### Non probability sampling methods:"
   ]
  },
  {
   "cell_type": "markdown",
   "id": "60a0b691-4a66-4a0e-9841-ad5ba51bf45c",
   "metadata": {},
   "source": [
    "**1. Convenience Sampling**"
   ]
  },
  {
   "cell_type": "markdown",
   "id": "04d92f41-67eb-427d-b824-6fe23554d347",
   "metadata": {},
   "source": [
    "Convenience sampling involves selecting the easiest samples from the population, usually the first few rows of the dataset."
   ]
  },
  {
   "cell_type": "markdown",
   "id": "0558edf3-dd74-4d50-abd5-1b32ddcb918f",
   "metadata": {},
   "source": [
    "Select the first 10 rows as the sample"
   ]
  },
  {
   "cell_type": "code",
   "execution_count": 11,
   "id": "d921b617-4c11-4f64-bdd9-abf789ac5a94",
   "metadata": {},
   "outputs": [
    {
     "name": "stdout",
     "output_type": "stream",
     "text": [
      "Convenience Sampling:\n",
      "       Name  Gender  Age       City Working Professional or Student  \\\n",
      "0    Pooja  Female   37  Ghaziabad            Working Professional   \n",
      "1  Reyansh    Male   60     Kalyan            Working Professional   \n",
      "2    Manvi  Female   42     Bhopal            Working Professional   \n",
      "3     Isha  Female   44      Thane            Working Professional   \n",
      "4    Aarav    Male   48     Indore            Working Professional   \n",
      "5    Sanya  Female   60     Bhopal            Working Professional   \n",
      "6     Zara  Female   30       Pune            Working Professional   \n",
      "7    Kiran    Male   30  Bangalore            Working Professional   \n",
      "8     Kush    Male   56  Hyderabad            Working Professional   \n",
      "9   Damini  Female   35   Srinagar            Working Professional   \n",
      "\n",
      "          Profession  Academic Pressure  Work Pressure  CGPA  \\\n",
      "0            Teacher                NaN            2.0   NaN   \n",
      "1  Financial Analyst                NaN            4.0   NaN   \n",
      "2            Teacher                NaN            2.0   NaN   \n",
      "3            Teacher                NaN            3.0   NaN   \n",
      "4     UX/UI Designer                NaN            4.0   NaN   \n",
      "5     Civil Engineer                NaN            1.0   NaN   \n",
      "6         Accountant                NaN            4.0   NaN   \n",
      "7            Teacher                NaN            1.0   NaN   \n",
      "8             Lawyer                NaN            1.0   NaN   \n",
      "9     Content Writer                NaN            3.0   NaN   \n",
      "\n",
      "   Study Satisfaction  Job Satisfaction     Sleep Duration Dietary Habits  \\\n",
      "0                 NaN               4.0          7-8 hours       Moderate   \n",
      "1                 NaN               3.0          5-6 hours      Unhealthy   \n",
      "2                 NaN               3.0          5-6 hours       Moderate   \n",
      "3                 NaN               5.0          7-8 hours        Healthy   \n",
      "4                 NaN               3.0          7-8 hours       Moderate   \n",
      "5                 NaN               4.0          7-8 hours      Unhealthy   \n",
      "6                 NaN               2.0  More than 8 hours        Healthy   \n",
      "7                 NaN               2.0  More than 8 hours      Unhealthy   \n",
      "8                 NaN               2.0  More than 8 hours       Moderate   \n",
      "9                 NaN               4.0  Less than 5 hours       Moderate   \n",
      "\n",
      "  Degree Have you ever had suicidal thoughts ?  Work/Study Hours  \\\n",
      "0     MA                                    No                 6   \n",
      "1  B.Com                                   Yes                 0   \n",
      "2  M.Com                                    No                 0   \n",
      "3     MD                                   Yes                 1   \n",
      "4     BE                                   Yes                 6   \n",
      "5    MCA                                   Yes                12   \n",
      "6  M.Com                                    No                 3   \n",
      "7     BA                                   Yes                 6   \n",
      "8    LLM                                   Yes                11   \n",
      "9    BCA                                    No                 6   \n",
      "\n",
      "   Financial Stress Family History of Mental Illness Depression  \n",
      "0                 2                               No         No  \n",
      "1                 4                              Yes         No  \n",
      "2                 2                               No         No  \n",
      "3                 2                              Yes         No  \n",
      "4                 5                              Yes         No  \n",
      "5                 3                              Yes         No  \n",
      "6                 1                               No         No  \n",
      "7                 1                               No         No  \n",
      "8                 5                              Yes         No  \n",
      "9                 4                              Yes         No  \n"
     ]
    }
   ],
   "source": [
    "import pandas as pd\n",
    "import numpy as np\n",
    "data  = pd.read_csv('C:\\\\Users\\\\DELL G15\\\\Downloads\\\\archive (4)\\\\final_depression_dataset_1.csv')\n",
    "def convenience_sampling(data, sample_size):\n",
    "    return data.head(sample_size)\n",
    "\n",
    "sample_convenience = convenience_sampling(data, 10)\n",
    "print(\"Convenience Sampling:\\n\", sample_convenience)"
   ]
  },
  {
   "cell_type": "markdown",
   "id": "b9370395-1adb-4894-8c66-015c48ea2add",
   "metadata": {},
   "source": [
    "**2. Judgmental (Purposive) Sampling**"
   ]
  },
  {
   "cell_type": "markdown",
   "id": "79d734d2-53c2-49e3-92cc-a23215094dc7",
   "metadata": {},
   "source": [
    "This method involves selecting samples based on specific criteria or judgment, often by the researcher’s expertise. "
   ]
  },
  {
   "cell_type": "markdown",
   "id": "f2dcc1fe-2834-4b6f-803d-7403caa643e8",
   "metadata": {},
   "source": [
    "Select rows where 'Gender' is 'Female'"
   ]
  },
  {
   "cell_type": "code",
   "execution_count": 13,
   "id": "57b29f26-c800-4b29-9740-132427b9e379",
   "metadata": {},
   "outputs": [
    {
     "name": "stdout",
     "output_type": "stream",
     "text": [
      "Judgmental (Purposive) Sampling:\n",
      "        Name  Gender  Age       City Working Professional or Student  \\\n",
      "0     Pooja  Female   37  Ghaziabad            Working Professional   \n",
      "2     Manvi  Female   42     Bhopal            Working Professional   \n",
      "3      Isha  Female   44      Thane            Working Professional   \n",
      "5     Sanya  Female   60     Bhopal            Working Professional   \n",
      "6      Zara  Female   30       Pune            Working Professional   \n",
      "9    Damini  Female   35   Srinagar            Working Professional   \n",
      "15   Charvi  Female   51      Thane            Working Professional   \n",
      "18    Palak  Female   60   Varanasi            Working Professional   \n",
      "21    Vibha  Female   51    Chennai            Working Professional   \n",
      "24  Anushka  Female   46  Hyderabad            Working Professional   \n",
      "\n",
      "         Profession  Academic Pressure  Work Pressure  CGPA  \\\n",
      "0           Teacher                NaN            2.0   NaN   \n",
      "2           Teacher                NaN            2.0   NaN   \n",
      "3           Teacher                NaN            3.0   NaN   \n",
      "5    Civil Engineer                NaN            1.0   NaN   \n",
      "6        Accountant                NaN            4.0   NaN   \n",
      "9    Content Writer                NaN            3.0   NaN   \n",
      "15          Teacher                NaN            3.0   NaN   \n",
      "18        Architect                NaN            4.0   NaN   \n",
      "21       HR Manager                NaN            5.0   NaN   \n",
      "24  Sales Executive                NaN            2.0   NaN   \n",
      "\n",
      "    Study Satisfaction  Job Satisfaction     Sleep Duration Dietary Habits  \\\n",
      "0                  NaN               4.0          7-8 hours       Moderate   \n",
      "2                  NaN               3.0          5-6 hours       Moderate   \n",
      "3                  NaN               5.0          7-8 hours        Healthy   \n",
      "5                  NaN               4.0          7-8 hours      Unhealthy   \n",
      "6                  NaN               2.0  More than 8 hours        Healthy   \n",
      "9                  NaN               4.0  Less than 5 hours       Moderate   \n",
      "15                 NaN               3.0  Less than 5 hours      Unhealthy   \n",
      "18                 NaN               1.0  Less than 5 hours      Unhealthy   \n",
      "21                 NaN               5.0          5-6 hours        Healthy   \n",
      "24                 NaN               3.0          5-6 hours        Healthy   \n",
      "\n",
      "    Degree Have you ever had suicidal thoughts ?  Work/Study Hours  \\\n",
      "0       MA                                    No                 6   \n",
      "2    M.Com                                    No                 0   \n",
      "3       MD                                   Yes                 1   \n",
      "5      MCA                                   Yes                12   \n",
      "6    M.Com                                    No                 3   \n",
      "9      BCA                                    No                 6   \n",
      "15     LLB                                    No                 9   \n",
      "18  B.Arch                                    No                10   \n",
      "21      ME                                    No                11   \n",
      "24     MBA                                    No                 5   \n",
      "\n",
      "    Financial Stress Family History of Mental Illness Depression  \n",
      "0                  2                               No         No  \n",
      "2                  2                               No         No  \n",
      "3                  2                              Yes         No  \n",
      "5                  3                              Yes         No  \n",
      "6                  1                               No         No  \n",
      "9                  4                              Yes         No  \n",
      "15                 1                               No         No  \n",
      "18                 5                              Yes         No  \n",
      "21                 2                               No         No  \n",
      "24                 5                              Yes         No  \n"
     ]
    }
   ],
   "source": [
    "import pandas as pd\n",
    "import numpy as np\n",
    "data  = pd.read_csv('C:\\\\Users\\\\DELL G15\\\\Downloads\\\\archive (4)\\\\final_depression_dataset_1.csv')\n",
    "def judgmental_sampling(data, condition, sample_size):\n",
    "    filtered_data = data.query(condition)\n",
    "    return filtered_data.head(sample_size)  \n",
    "\n",
    "\n",
    "sample_judgmental = judgmental_sampling(data, \"Gender == 'Female'\",10)\n",
    "print(\"Judgmental (Purposive) Sampling:\\n\", sample_judgmental)"
   ]
  },
  {
   "cell_type": "markdown",
   "id": "02c9da82-ea90-4081-9721-14e3874b80a0",
   "metadata": {},
   "source": [
    "**3. Quota Sampling**"
   ]
  },
  {
   "cell_type": "markdown",
   "id": "50aa39f7-3193-4f0c-aed3-a206f7083517",
   "metadata": {},
   "source": [
    "Quota sampling divides the population into subgroups and selects a predetermined number of samples from each subgroup."
   ]
  },
  {
   "cell_type": "markdown",
   "id": "3f556095-ad1c-4b23-9e0f-b2d99b80a7a8",
   "metadata": {},
   "source": [
    "Stratify by 'Gender', selecting 5 samples from each gender group"
   ]
  },
  {
   "cell_type": "code",
   "execution_count": 16,
   "id": "985630ac-da57-443e-826c-6aa8dfca7988",
   "metadata": {},
   "outputs": [
    {
     "name": "stdout",
     "output_type": "stream",
     "text": [
      "Quota Sampling:\n",
      "        Name  Age      City Working Professional or Student  \\\n",
      "0  Karishma   45     Patna            Working Professional   \n",
      "1     Divya   37    Kalyan            Working Professional   \n",
      "2      Tina   49  Varanasi            Working Professional   \n",
      "3    Yashvi   38     Delhi            Working Professional   \n",
      "4    Prachi   50    Indore            Working Professional   \n",
      "5     Harsh   57   Chennai            Working Professional   \n",
      "6    Advait   34  Srinagar            Working Professional   \n",
      "7     Kabir   53  Varanasi            Working Professional   \n",
      "8     Rudra   52    Meerut            Working Professional   \n",
      "9  Pratyush   26     Delhi                         Student   \n",
      "\n",
      "            Profession  Academic Pressure  Work Pressure  CGPA  \\\n",
      "0              Chemist                NaN            5.0   NaN   \n",
      "1              Teacher                NaN            1.0   NaN   \n",
      "2         Entrepreneur                NaN            1.0   NaN   \n",
      "3          Electrician                NaN            1.0   NaN   \n",
      "4         Entrepreneur                NaN            5.0   NaN   \n",
      "5  Finanancial Analyst                NaN            2.0   NaN   \n",
      "6              Teacher                NaN            2.0   NaN   \n",
      "7              Teacher                NaN            4.0   NaN   \n",
      "8     Digital Marketer                NaN            3.0   NaN   \n",
      "9                  NaN                4.0            NaN  5.35   \n",
      "\n",
      "   Study Satisfaction  Job Satisfaction     Sleep Duration Dietary Habits  \\\n",
      "0                 NaN               4.0          7-8 hours       Moderate   \n",
      "1                 NaN               1.0  Less than 5 hours       Moderate   \n",
      "2                 NaN               1.0  More than 8 hours        Healthy   \n",
      "3                 NaN               4.0  Less than 5 hours      Unhealthy   \n",
      "4                 NaN               2.0          7-8 hours        Healthy   \n",
      "5                 NaN               1.0  More than 8 hours        Healthy   \n",
      "6                 NaN               2.0          7-8 hours      Unhealthy   \n",
      "7                 NaN               5.0  More than 8 hours        Healthy   \n",
      "8                 NaN               3.0          5-6 hours        Healthy   \n",
      "9                 4.0               NaN          5-6 hours      Unhealthy   \n",
      "\n",
      "     Degree Have you ever had suicidal thoughts ?  Work/Study Hours  \\\n",
      "0   B.Pharm                                   Yes                 0   \n",
      "1       MSc                                    No                10   \n",
      "2        BE                                   Yes                 4   \n",
      "3       BCA                                    No                 0   \n",
      "4       PhD                                   Yes                 5   \n",
      "5        BE                                    No                 2   \n",
      "6      M.Ed                                   Yes                 8   \n",
      "7      B.Ed                                   Yes                 5   \n",
      "8        MA                                    No                 3   \n",
      "9  Class 12                                    No                 9   \n",
      "\n",
      "   Financial Stress Family History of Mental Illness Depression  \n",
      "0                 5                               No         No  \n",
      "1                 1                              Yes         No  \n",
      "2                 1                               No         No  \n",
      "3                 2                               No         No  \n",
      "4                 5                               No         No  \n",
      "5                 4                               No         No  \n",
      "6                 3                              Yes         No  \n",
      "7                 5                              Yes         No  \n",
      "8                 2                              Yes         No  \n",
      "9                 1                              Yes         No  \n"
     ]
    }
   ],
   "source": [
    "import pandas as pd\n",
    "import numpy as np\n",
    "data  = pd.read_csv('C:\\\\Users\\\\DELL G15\\\\Downloads\\\\archive (4)\\\\final_depression_dataset_1.csv')\n",
    "def quota_sampling(data, stratify_by, sample_size_per_group):\n",
    "    strata = data.groupby(stratify_by, group_keys=False)\n",
    "    quota_sample = strata.apply(lambda x: x.sample(n=sample_size_per_group), include_groups=False).reset_index(drop=True)\n",
    "    return quota_sample\n",
    "\n",
    "sample_quota = quota_sampling(data, 'Gender', 5)\n",
    "print(\"Quota Sampling:\\n\", sample_quota)"
   ]
  },
  {
   "cell_type": "markdown",
   "id": "867c32d7-4676-4ae1-a995-a64ef6b193ca",
   "metadata": {},
   "source": [
    "## **Thank You**"
   ]
  },
  {
   "cell_type": "code",
   "execution_count": null,
   "id": "18ded4f5-8552-4d12-8a63-c3c78ac8727c",
   "metadata": {},
   "outputs": [],
   "source": []
  }
 ],
 "metadata": {
  "kernelspec": {
   "display_name": "Python 3 (ipykernel)",
   "language": "python",
   "name": "python3"
  },
  "language_info": {
   "codemirror_mode": {
    "name": "ipython",
    "version": 3
   },
   "file_extension": ".py",
   "mimetype": "text/x-python",
   "name": "python",
   "nbconvert_exporter": "python",
   "pygments_lexer": "ipython3",
   "version": "3.12.4"
  }
 },
 "nbformat": 4,
 "nbformat_minor": 5
}
