{
 "cells": [
  {
   "cell_type": "markdown",
   "id": "bfde82b2-2760-4d08-852f-a1b9d64afb29",
   "metadata": {},
   "source": [
    "  ### Statistics for CS\n",
    " **Section A**\n",
    "  <br> **5th sem**\n",
    "### CASE STUDY"
   ]
  },
  {
   "cell_type": "markdown",
   "id": "f3cc04af-5a77-419a-9c45-3fdd60eecd67",
   "metadata": {},
   "source": [
    "### GROUP MEMBERS \n",
    " <br> **LAXMI**(22BCS059)\n",
    "<br> **ARPITA**(22BCS017)\n",
    "<br> **B. BABITHA**(22BCS026)\n",
    "\n",
    "## **Depression Dataset**\n"
   ]
  },
  {
   "cell_type": "markdown",
   "id": "24cb9791-562c-4df9-baad-5da080a616da",
   "metadata": {},
   "source": [
    "## UNIT-III"
   ]
  },
  {
   "cell_type": "markdown",
   "id": "955217da-7515-449c-97c8-a2b272c05f60",
   "metadata": {},
   "source": [
    "##  Non-parametric Hypothesis Tests"
   ]
  },
  {
   "cell_type": "markdown",
   "id": "e7b62de1-a465-45cd-850c-c1504f6563bf",
   "metadata": {},
   "source": [
    "## Runs Test"
   ]
  },
  {
   "cell_type": "markdown",
   "id": "a4082460-1e2f-46e5-9c16-5ad51024dd48",
   "metadata": {},
   "source": [
    "**Null Hypothesis (H0):** There is no significant difference in the distribution of genders among people with depression; the sequence of genders is random.\n",
    "\n",
    "<br> **Alternative Hypothesis (H1):** : There is a significant difference in the distribution of genders among people with depression; the sequence of genders is not random."
   ]
  },
  {
   "cell_type": "code",
   "execution_count": 1,
   "id": "0b1d4e01-6664-474d-bc6f-d6056a52fa1a",
   "metadata": {},
   "outputs": [],
   "source": [
    "import pandas as pd\n",
    "df = pd.read_csv('C:\\\\Users\\\\DELL G15\\\\Downloads\\\\archive (4)\\\\final_depression_dataset_1.csv')"
   ]
  },
  {
   "cell_type": "code",
   "execution_count": 19,
   "id": "b0300b29-7f9d-4c97-a116-059160f5525b",
   "metadata": {},
   "outputs": [
    {
     "name": "stdout",
     "output_type": "stream",
     "text": [
      "Step 1: Hypothesis Statement and Claim:\n",
      "Hypothesis_statement: People having depression at random, according to gender (Claim).\n",
      "Alternative Statement: People  do not have depression at random, according to gender. \n",
      "\n",
      "Runs of gender:\n",
      "3 Male's\n",
      "3 Female's\n",
      "1 Male's\n",
      "2 Female's\n",
      "1 Male's\n",
      "\n",
      "Number of males(n1): 5\n",
      "Number of females(n2): 5\n",
      "\n",
      "Number of runs: 5\n",
      "Critical values are 3.0782581980780614 and 8.92174180192194\n",
      "\n",
      "Since number of runs is between 3.0782581980780614 and 8.92174180192194\n",
      "We do not reject the null hypothesis.\n",
      "\n",
      "Step 5: Summary\n",
      "There is not enough evidence to reject the null hypothesis.\n"
     ]
    }
   ],
   "source": [
    "\n",
    "df_subset = df[df['Depression'] == 'Yes'].head(10)\n",
    "\n",
    "\n",
    "Hypothesis_statement = \"People having depression at random, according to gender (Claim).\"\n",
    "Alternative_statement = \"People  do not have depression at random, according to gender.\"\n",
    "\n",
    "print(\"Step 1: Hypothesis Statement and Claim:\")\n",
    "print(\"Hypothesis_statement:\", Hypothesis_statement)\n",
    "print(\"Alternative Statement:\", Alternative_statement, \"\\n\")\n",
    "\n",
    "Dep_Gender = df_subset[['Depression', 'Gender']].values.tolist()\n",
    "\n",
    "runs = []\n",
    "current_run = [Dep_Gender[0][1]]\n",
    "for i in range(1, len(Dep_Gender)):\n",
    "    if Dep_Gender[i][1] == current_run[-1]:\n",
    "        current_run.append(Dep_Gender[i][1])\n",
    "    else:\n",
    "        runs.append(current_run)\n",
    "        current_run = [Dep_Gender[i][1]]\n",
    "\n",
    "runs.append(current_run)\n",
    "\n",
    "print(\"Runs of gender:\")\n",
    "for run in runs:\n",
    "    print(f\"{len(run)} {run[0]}'s\")\n",
    "r = len(runs)\n",
    "alpha =0.05\n",
    "male_count = df_subset[df_subset['Gender'] == 'Male'].shape[0]\n",
    "female_count = df_subset[df_subset['Gender'] == 'Female'].shape[0]\n",
    "\n",
    "n1 = male_count\n",
    "n2 = female_count\n",
    "mean_r = (2 * n1 * n2) / (n1 + n2) + 1\n",
    "std_dev_r = ((2 * n1 * n2 * (2 * n1 * n2 - n1 - n2)) / ((n1 + n2)**2 * (n1 + n2 - 1)))**0.5\n",
    "\n",
    "print(\"\\nNumber of males(n1):\", male_count)\n",
    "print(\"Number of females(n2):\", female_count)\n",
    "print(\"\\nNumber of runs:\", r)\n",
    "\n",
    "critical_low = mean_r - z_critical * std_dev_r\n",
    "critical_high = mean_r + z_critical * std_dev_r\n",
    "\n",
    "\n",
    "print(f'Critical values are {critical_low} and {critical_high}\\n')\n",
    "\n",
    "print(f'Since number of runs is between {critical_low} and {critical_high}')\n",
    "\n",
    "reject = True\n",
    "if critical_low <= r <= critical_high:\n",
    "    print(\"We do not reject the null hypothesis.\")\n",
    "    reject = False\n",
    "else:\n",
    "    print(\"We do reject the null hypothesis.\")\n",
    "    reject = True\n",
    "\n",
    "print(\"\\nStep 5: Summary\")\n",
    "if reject:\n",
    "    print(\"There is enough evidence to reject the null hypothesis that people having depression at random , according to gender.\")\n",
    "else:\n",
    "    print(\"There is not enough evidence to reject the null hypothesis.\")"
   ]
  },
  {
   "cell_type": "markdown",
   "id": "0275fce5-3a04-448c-b011-efd6f7f09508",
   "metadata": {},
   "source": [
    "## Sign Test - One Sample\n"
   ]
  },
  {
   "cell_type": "markdown",
   "id": "22558a53-02a8-42f2-a447-84a794ab7e5a",
   "metadata": {},
   "source": [
    "**Hypothesis Statements**\n",
    "<br>**Null Hypothesis(H0):** The population median age is equal to the hypothesized value.\n",
    "<br> **Alternative Hypothesis(Ha):** There is a significant difference between the population median age and the hypothesized value.\n"
   ]
  },
  {
   "cell_type": "code",
   "execution_count": 5,
   "id": "3255fb8e-25fd-4205-a56b-ca6d7279badb",
   "metadata": {},
   "outputs": [
    {
     "name": "stdout",
     "output_type": "stream",
     "text": [
      "Critical value is  3\n",
      "Hypotheses:\n",
      "  Null Hypothesis (H0): The population median age is equal to 40.\n",
      "  Alternative Hypothesis (H1): There is a significant difference between the population median age and 40.\n",
      "Sign Counts:\n",
      "  +'s: 9\n",
      "  -'s: 6\n",
      "  0's: 0\n",
      "Test Value: 6\n",
      "Result: Fail to reject the null hypothesis\n"
     ]
    }
   ],
   "source": [
    "hypothesized_median = 40\n",
    "\n",
    "subset = df['Age'].head(15)\n",
    "\n",
    "subset['Signs'] = subset.apply(lambda x: '+' if x > hypothesized_median else '-' if x < hypothesized_median else '0')\n",
    "\n",
    "if subset['Signs'].eq('0').all():\n",
    "    print(\"Data supports the null hypothesis. Stop.\")\n",
    "else:\n",
    "    sign_counts = subset['Signs'].value_counts()\n",
    "\n",
    "    positive_count = sign_counts.get('+', 0)\n",
    "    negative_count = sign_counts.get('-', 0)\n",
    "    zero_count = sign_counts.get('0', 0)\n",
    "\n",
    "\n",
    "    test_value = min(positive_count, negative_count)\n",
    "\n",
    "    alpha = 0.05\n",
    "    critical_value = 3\n",
    "    print(\"Critical value is \", critical_value)\n",
    "\n",
    "    if test_value <= critical_value:\n",
    "        result = 'Reject the null hypothesis'\n",
    "    else:\n",
    "        result = 'Fail to reject the null hypothesis'\n",
    "\n",
    "    print(f'Hypotheses:')\n",
    "    print(f'  Null Hypothesis (H0): The population median age is equal to {hypothesized_median}.')\n",
    "    print(f'  Alternative Hypothesis (H1): There is a significant difference between the population median age and {hypothesized_median}.')\n",
    "    print(f'Sign Counts:')\n",
    "    print(f'  +\\'s: {positive_count}')\n",
    "    print(f'  -\\'s: {negative_count}')\n",
    "    print(f'  0\\'s: {zero_count}')\n",
    "    print(f'Test Value: {test_value}')\n",
    "    print(f'Result: {result}')"
   ]
  },
  {
   "cell_type": "markdown",
   "id": "fef37a5d-3242-4d7b-b4f0-a98b00f4f7d1",
   "metadata": {},
   "source": [
    "##  Paired Sample - Sign Test"
   ]
  },
  {
   "cell_type": "markdown",
   "id": "d140ae59-f809-4218-b113-7909bbd4072e",
   "metadata": {},
   "source": [
    "**Hypothesis Statements**\n",
    "\n",
    "**Null Hypothesis (H0):** There is no relationship between having a Family History of Mental Illness and the likelihood of having depression or not .\n",
    "\n",
    "**Alternative Hypothesis (H1):**  There is a relationship between having a Family History of Mental Illness and the likelihood of having depression or not "
   ]
  },
  {
   "cell_type": "code",
   "execution_count": 7,
   "id": "76df3e79-f8a2-4de7-b4db-76045c1e4194",
   "metadata": {},
   "outputs": [
    {
     "name": "stdout",
     "output_type": "stream",
     "text": [
      "Null Hypothesis (H0): There is no relationship between having a Family History of Mental Illness and the likelihood of having depression or not .\n",
      "Alternative Hypothesis (H1): There is a relationship between having a Family History of Mental Illness and the likelihood of having depression or not .\n",
      "\n",
      "Step 3: Positive Differences = 1014\n",
      "Step 3: Negative Differences = 224\n",
      "Step 4: Test Value = 224\n",
      "Step 5: Sample Size (n) = 2556\n",
      "Step 5: For Large Samples (n >= 26):\n",
      "  - Significance Level (alpha) = 0.05\n",
      "  - Z-Critical Value = 1.959963984540054\n",
      "Test statistic can be obtained from the formula, Z = [(X + 0.05) - (n/2)]/sqrt(n/2), where X is test value, in this case equal to 224 and n = 2556 \n",
      "  - Test Statistic = -29.48183975255985\n",
      "  - Is |Test Statistic| <= Z-Critical Value? False\n",
      "Result: Do not reject the null hypothesis\n"
     ]
    }
   ],
   "source": [
    "import pandas as pd\n",
    "import numpy as np\n",
    "from scipy import stats\n",
    "\n",
    "family_history = df['Family History of Mental Illness'].map({'Yes': 1, 'No': 0})\n",
    "depression = df['Depression'].map({'Yes': 1, 'No': 0})\n",
    "differences = family_history - depression\n",
    "\n",
    "positive_diff = np.sum(differences > 0)\n",
    "negative_diff = np.sum(differences < 0)\n",
    "\n",
    "test_value = min(positive_diff, negative_diff)\n",
    "\n",
    "n = len(differences)\n",
    "\n",
    "null_hypothesis = \"There is no relationship between having a Family History of Mental Illness and the likelihood of having depression or not .\"\n",
    "alternative_hypothesis = \"There is a relationship between having a Family History of Mental Illness and the likelihood of having depression or not .\"\n",
    "\n",
    "if n < 26:\n",
    "    critical_value = 10\n",
    "    if abs(test_value) <= critical_value:\n",
    "        result = \"Do not reject the null hypothesis\"\n",
    "    else:\n",
    "        result = \"Reject the null hypothesis\"\n",
    "else:\n",
    "    alpha = 0.05\n",
    "    z_critical = stats.norm.ppf(1 - alpha / 2)\n",
    "    test_statistic = ((test_value + 0.05) - (n/2)) / np.sqrt(n/2)\n",
    "\n",
    "    if abs(test_statistic) <= z_critical:\n",
    "        result = \"Reject the null hypothesis\"\n",
    "    else:\n",
    "        result = \"Do not reject the null hypothesis\"\n",
    "\n",
    "print(\"Null Hypothesis (H0):\", null_hypothesis)\n",
    "print(\"Alternative Hypothesis (H1):\", alternative_hypothesis)\n",
    "print()\n",
    "print(\"Step 3: Positive Differences =\", positive_diff)\n",
    "print(\"Step 3: Negative Differences =\", negative_diff)\n",
    "print(\"Step 4: Test Value =\", test_value)\n",
    "print(\"Step 5: Sample Size (n) =\", n)\n",
    "\n",
    "if n < 26:\n",
    "    print(\"Step 5: For Small Samples (n < 26):\")\n",
    "    print(f\"  - Critical Value = {critical_value}\")\n",
    "    print(f\"  - |Test Value| <= Critical Value ? {abs(test_value) <= critical_value}\")\n",
    "else:\n",
    "    print(\"Step 5: For Large Samples (n >= 26):\")\n",
    "    print(f\"  - Significance Level (alpha) = {alpha}\")\n",
    "    print(f\"  - Z-Critical Value = {z_critical}\")\n",
    "    print(f'Test statistic can be obtained from the formula, Z = [(X + 0.05) - (n/2)]/sqrt(n/2), where X is test value, in this case equal to {test_value} and n = {n} ')\n",
    "    print(f\"  - Test Statistic = {test_statistic}\")\n",
    "    print(f\"  - Is |Test Statistic| <= Z-Critical Value? {abs(test_statistic) <= z_critical}\")\n",
    "\n",
    "print(\"Result:\", result)"
   ]
  },
  {
   "cell_type": "markdown",
   "id": "e7c046da-5daa-4dbe-bc3d-6d9f566bb6b1",
   "metadata": {},
   "source": [
    "##  Wilcoxon Rank Sum Test or Mann-Whitney U test\n"
   ]
  },
  {
   "cell_type": "markdown",
   "id": "16f881bf-2dd6-432a-8f70-fa0e556d42bf",
   "metadata": {},
   "source": [
    "**Hypothesis Statements**\n",
    "<br>**Null Hypothesis (H0):** There is no difference in the ages of individuals who have depression or not.\n",
    "\n",
    "**Alternative Hypothesis (H1):**  There is a difference in the ages of individuals who have depression or not(claim).\n",
    "\n"
   ]
  },
  {
   "cell_type": "code",
   "execution_count": 9,
   "id": "fbdeb47b-f231-4c4d-8d57-f0ffd8fb44fe",
   "metadata": {},
   "outputs": [
    {
     "name": "stdout",
     "output_type": "stream",
     "text": [
      "Step 1: State the hypotheses and identify the claim.\n",
      "H0: There is no difference in the ages of individuals who have depression and who do not have depression\n",
      "H1: There is a difference in the ages of individuals who have depression and who do not have depression (claim).\n",
      "\n",
      "Step 2: Find the critical value.\n",
      "Using alpha (α) significance level (e.g., α = 0.05) and a two-tailed test.\n",
      "Critical value is 1.9599639845400545\n",
      "\n",
      "Step 3: Compute the test value.\n",
      "a. Combine the data from the two groups and rank them.\n",
      "b. Find the smaller group\n",
      "\n",
      "n1 = 455\n",
      "n2 = 2101\n",
      "\n",
      "So size of smaller group is 455\n",
      "Sum of ranks of smaller group R = 381150\n",
      "\n",
      "c. Calculate the Mann-Whitney U Statistic U (μ): 581717.5\n",
      "d. Calculate the standard error (σ): 14272.283556483408\n",
      "\n",
      "Step 4: Use these formulas to find the test value.\n",
      "Z_calculated = 14.052936883312487\n",
      "Z_tabulated = 1.9599639845400545\n",
      "Reject the null hypothesis: \n",
      "There is a difference in the ages of individuals  who have depression and who do not have depression\"\n"
     ]
    }
   ],
   "source": [
    "import pandas as pd\n",
    "from scipy.stats import mannwhitneyu, norm\n",
    "\n",
    "\n",
    "group1 = df[df[\"Depression\"] == \"Yes\"][\"Age\"].values\n",
    "group2 = df[df[\"Depression\"] == \"No\"][\"Age\"].values\n",
    "\n",
    "alpha = 0.05\n",
    "\n",
    "z_tab = abs(norm.ppf(alpha / 2))\n",
    "combined_data = np.concatenate((group1, group2))\n",
    "ranks = np.argsort(combined_data) + 1\n",
    "n1 = len(group1)\n",
    "n2 = len(group2)\n",
    "smaller_group = min(len(group1), len(group2))\n",
    "R = np.sum(ranks[:len(group1)]) if len(group1) < len(group2) else np.sum(ranks[:len(group2)])\n",
    "U = smaller_group * (len(group1) + len(group2) + 1) / 2\n",
    "\n",
    "Sigma = np.sqrt(len(group1) * len(group2) * (len(group1) + len(group2) + 1) / 12)\n",
    "\n",
    "z_cal = np.abs(R - U) / Sigma\n",
    "\n",
    "print(\"Step 1: State the hypotheses and identify the claim.\")\n",
    "print(\"H0: There is no difference in the ages of individuals who have depression and who do not have depression\")\n",
    "print(\"H1: There is a difference in the ages of individuals who have depression and who do not have depression (claim).\\n\")\n",
    "\n",
    "print(\"Step 2: Find the critical value.\")\n",
    "print(f\"Using alpha (α) significance level (e.g., α = {alpha}) and a two-tailed test.\")\n",
    "\n",
    "print(f'Critical value is {z_tab}\\n')\n",
    "\n",
    "print(\"Step 3: Compute the test value.\")\n",
    "print(\"a. Combine the data from the two groups and rank them.\")\n",
    "\n",
    "print(\"b. Find the smaller group\\n\")\n",
    "\n",
    "print(f'n1 = {n1}')\n",
    "print(f'n2 = {n2}')\n",
    "\n",
    "print(f'\\nSo size of smaller group is {smaller_group}')\n",
    "print(f\"Sum of ranks of smaller group R = {R}\\n\")\n",
    "print(f\"c. Calculate the Mann-Whitney U Statistic U (μ): {U}\")\n",
    "print(\"d. Calculate the standard error (σ):\", Sigma)\n",
    "print(\"\\nStep 4: Use these formulas to find the test value.\")\n",
    "print(f\"Z_calculated = {z_cal}\")\n",
    "print(f\"Z_tabulated = {z_tab}\")\n",
    "\n",
    "if z_cal < z_tab:\n",
    "    print('Fail to reject the null hypothesis: \\nThere is no difference in the ages of individuals who have depression and who do not have depression\".')\n",
    "else:\n",
    "    print('Reject the null hypothesis: \\nThere is a difference in the ages of individuals  who have depression and who do not have depression\"')"
   ]
  },
  {
   "cell_type": "markdown",
   "id": "057b5e04-61a1-4600-9e78-6639257885de",
   "metadata": {},
   "source": [
    "## Wilcoxon Signed Rank Test\n"
   ]
  },
  {
   "cell_type": "markdown",
   "id": "32078848-b8e8-4119-bc90-46951246a11c",
   "metadata": {},
   "source": [
    "**Hypothesis Statements** :  The participation in a wellness program has a significant effect on reducing the Depression of people ."
   ]
  },
  {
   "cell_type": "code",
   "execution_count": 11,
   "id": "3bf26fba-5f6b-4a4e-9f6f-f90dd6f4cb06",
   "metadata": {},
   "outputs": [
    {
     "name": "stdout",
     "output_type": "stream",
     "text": [
      "Step 1: State the hypotheses and identify the claim.\n",
      "Hypothesis Statement:\n",
      "\n",
      "Null Hypothesis (H0):\n",
      "There is no relationship between having a family history of mental illness and the likelihood of having depression.\n",
      "\n",
      "Alternative Hypothesis (H1):\n",
      "There is a relationship between having a family history of mental illness and the likelihood of having depression.\n",
      "Step 2: Find the critical value\n",
      "Z-Tabulated = 1.9599639845400545\n",
      "\n",
      "Step 3: Compute the test value.\n",
      "Creating a table of before, after, difference, absolute difference, rank, signed rank\n",
      "\n",
      "Step 4: Finding Z_calculated\n",
      "Z_cal = 43.781836918266734\n",
      "\n",
      "Step 5: Make the decision.\n",
      "Reject the null hypothesis: \n",
      "There is a relationship between having a family history of mental illness and the likelihood of having depression.\n"
     ]
    }
   ],
   "source": [
    "import pandas as pd\n",
    "\n",
    "df = pd.read_csv('C:\\\\Users\\\\DELL G15\\\\Downloads\\\\archive (4)\\\\final_depression_dataset_1.csv')\n",
    "\n",
    "before = df['Family History of Mental Illness'].map({'Yes': 1, 'No': 0})\n",
    "after = df['Depression'].map({'Yes': 1, 'No': 0})\n",
    "\n",
    "alpha = 0.05\n",
    "\n",
    "z_tab = abs(norm.ppf(alpha / 2))\n",
    "\n",
    "difference = before - after\n",
    "\n",
    "absolute_difference = abs(difference)\n",
    "\n",
    "ranked_values = absolute_difference.rank()\n",
    "\n",
    "signed_ranks = difference / absolute_difference\n",
    "\n",
    "table = pd.DataFrame({\n",
    "    'Family History of Mental Illness (Before)': before,\n",
    "    'Depression (After)': after,\n",
    "    'Difference': difference,\n",
    "    'Absolute Value': absolute_difference,\n",
    "    'Rank': ranked_values,\n",
    "    'Signed Rank': signed_ranks\n",
    "})\n",
    "\n",
    "\n",
    "sum_positive_ranks = signed_ranks[signed_ranks > 0].sum()\n",
    "sum_negative_ranks = signed_ranks[signed_ranks < 0].sum()\n",
    "\n",
    "n = len(before)\n",
    "test_value = min(abs(sum_positive_ranks), abs(sum_negative_ranks))\n",
    "\n",
    "z_cal = abs((test_value - (n * (n + 1) / 4)) / ((n * (n + 1) * (2 * n + 1)) / 24)**0.5)\n",
    "\n",
    "print(\"Step 1: State the hypotheses and identify the claim.\")\n",
    "print(\"Hypothesis Statement:\")\n",
    "print(\"\\nNull Hypothesis (H0):\")\n",
    "print(\"There is no relationship between having a family history of mental illness and the likelihood of having depression.\")\n",
    "print(\"\\nAlternative Hypothesis (H1):\")\n",
    "print(\"There is a relationship between having a family history of mental illness and the likelihood of having depression.\")\n",
    "\n",
    "print('Step 2: Find the critical value')\n",
    "print(f\"Z-Tabulated = {z_tab}\")\n",
    "\n",
    "print(\"\\nStep 3: Compute the test value.\")\n",
    "print(\"Creating a table of before, after, difference, absolute difference, rank, signed rank\")\n",
    "\n",
    "print(\"\\nStep 4: Finding Z_calculated\")\n",
    "print(f\"Z_cal = {z_cal}\")\n",
    "\n",
    "print(\"\\nStep 5: Make the decision.\")\n",
    "\n",
    "if z_cal < z_tab:\n",
    "    print('Fail to reject the null hypothesis: \\nThere is no relationship between having a family history of mental illness and the likelihood of having depression.')\n",
    "else: \n",
    "    print('Reject the null hypothesis: \\nThere is a relationship between having a family history of mental illness and the likelihood of having depression.')"
   ]
  },
  {
   "cell_type": "markdown",
   "id": "9e9a56c4-28e1-4cc7-b056-ad5d90e1ebe6",
   "metadata": {},
   "source": [
    " ## **Thank You**"
   ]
  },
  {
   "cell_type": "code",
   "execution_count": null,
   "id": "8c53f670-d4a5-4e62-903c-8abe28006a06",
   "metadata": {},
   "outputs": [],
   "source": []
  }
 ],
 "metadata": {
  "kernelspec": {
   "display_name": "Python 3 (ipykernel)",
   "language": "python",
   "name": "python3"
  },
  "language_info": {
   "codemirror_mode": {
    "name": "ipython",
    "version": 3
   },
   "file_extension": ".py",
   "mimetype": "text/x-python",
   "name": "python",
   "nbconvert_exporter": "python",
   "pygments_lexer": "ipython3",
   "version": "3.12.4"
  }
 },
 "nbformat": 4,
 "nbformat_minor": 5
}
