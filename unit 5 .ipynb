{
 "cells": [
  {
   "cell_type": "markdown",
   "id": "22112994-ff5d-427c-b21a-d21ea020c1d4",
   "metadata": {},
   "source": [
    "  ### Statistics for CS\n",
    " **Section A**\n",
    "  <br> **5th sem**\n",
    "### CASE STUDY"
   ]
  },
  {
   "cell_type": "markdown",
   "id": "69e9694f-55bb-4a83-b55b-61f22aca0c03",
   "metadata": {},
   "source": [
    "### GROUP MEMBERS \n",
    " <br> **LAXMI**(22BCS059)\n",
    "<br> **ARPITA**(22BCS017)\n",
    "<br> **B. BABITHA**(22BCS026)\n",
    "\n",
    "## **Depression Dataset**\n"
   ]
  },
  {
   "cell_type": "markdown",
   "id": "0efaff89-36fd-4dbd-a985-6107d56c9bc5",
   "metadata": {},
   "source": [
    "## UNIT-V\n",
    "\n",
    "### Estimation of Sample Size"
   ]
  },
  {
   "cell_type": "code",
   "execution_count": 1,
   "id": "2e15275d-fd34-42b4-adc2-3cba422d4064",
   "metadata": {},
   "outputs": [],
   "source": [
    "def get_Z_power(power):\n",
    "    if power == 0.8:\n",
    "        return 0.842\n",
    "    elif power == 0.9:\n",
    "        return 1.282\n",
    "    elif power == 0.95:\n",
    "        return 1.645\n",
    "    elif power == 0.99:\n",
    "        return 2.326\n",
    "    else:\n",
    "        raise ValueError(\"Invalid power. Use 0.8, 0.9, 0.95, or 0.99.\")\n",
    "\n",
    "def get_Z_TAB(significance_level, side):\n",
    "    z_table = {\n",
    "        0.01: {'two_sided': 2.576, 'one_sided': 2.326},\n",
    "        0.05: {'two_sided': 1.960, 'one_sided': 1.645},\n",
    "        0.10: {'two_sided': 1.645, 'one_sided': 1.282}\n",
    "    }\n",
    "\n",
    "    if significance_level in z_table:\n",
    "        if side in ['two_sided', 'one_sided']:\n",
    "            return z_table[significance_level][side]\n",
    "        else:\n",
    "            raise ValueError(\"Invalid side. Use 'two_sided' or 'one_sided'.\")\n",
    "    else:\n",
    "        raise ValueError(\"Invalid significance level. Use 0.01, 0.05, or 0.10.\")"
   ]
  },
  {
   "cell_type": "markdown",
   "id": "4174a847-5147-4631-9fcd-dacab6eed6a0",
   "metadata": {},
   "source": [
    "## 1.Sample size calculation\n"
   ]
  },
  {
   "cell_type": "markdown",
   "id": "b446a431-7fe3-4698-82f3-ee13ec4f9999",
   "metadata": {},
   "source": [
    "## For Single Sample Size\n"
   ]
  },
  {
   "cell_type": "code",
   "execution_count": 3,
   "id": "906015da-6d4e-45e1-a40d-bcc1cfa2b3bf",
   "metadata": {},
   "outputs": [
    {
     "name": "stdout",
     "output_type": "stream",
     "text": [
      "The estimated sample size needed for the one-sample estimation is: 145\n"
     ]
    }
   ],
   "source": [
    "import pandas as pd\n",
    "import math\n",
    "\n",
    "def estimate_sample_size_one_sample(df, variable, margin_of_error, confidence_level=0.05):\n",
    "    data = df[variable]\n",
    "    population_std_dev = data.std()\n",
    "    z_value = get_Z_TAB(confidence_level, 'two_sided')\n",
    "    sample_size = math.ceil((z_value**2 * population_std_dev**2) / range_of_error**2)\n",
    "    return sample_size\n",
    "df = pd.read_csv('C:\\\\Users\\\\DELL G15\\\\Downloads\\\\archive (4)\\\\final_depression_dataset_1.csv')\n",
    "range_of_error = 2.0 \n",
    "\n",
    "sample_size = estimate_sample_size_one_sample(df, 'Age', range_of_error)\n",
    "\n",
    "print(f\"The estimated sample size needed for the one-sample estimation is: {sample_size}\")"
   ]
  },
  {
   "cell_type": "markdown",
   "id": "dc1abf2a-d1a5-4573-bf91-dd2eea9f40ce",
   "metadata": {},
   "source": [
    "## For single proportion\n"
   ]
  },
  {
   "cell_type": "markdown",
   "id": "7c3d5bbe-ca19-4598-999f-a062ecbf0369",
   "metadata": {},
   "source": [
    "These hypotheses would be tested using a one-sample proportion test where you compare the proportion of individuals with depression in your sample to the proportion found in the previous study (30%). If the sample proportion differs significantly from the previous proportion, you would reject the null hypothesis."
   ]
  },
  {
   "cell_type": "markdown",
   "id": "08e2d0f3-e105-4cc8-a671-bb0dfda24150",
   "metadata": {},
   "source": [
    "30% of respondents report feeling depressed"
   ]
  },
  {
   "cell_type": "code",
   "execution_count": 5,
   "id": "6134684d-cc3d-474f-bc13-15feb60ed053",
   "metadata": {},
   "outputs": [
    {
     "name": "stdout",
     "output_type": "stream",
     "text": [
      "The estimated minimal sample size needed for the one-sample proportion estimation is: 100\n"
     ]
    }
   ],
   "source": [
    "import pandas as pd\n",
    "import math\n",
    "\n",
    "def estimate_sample_size_one_proportion(p, margin_of_error, alpha):\n",
    "    z_value = get_Z_TAB(alpha, 'two_sided')\n",
    "    sample_size = math.ceil((z_value**2 * p * (1 - p)) / margin_of_error**2)\n",
    "    return sample_size\n",
    "\n",
    "df = pd.read_csv('C:\\\\Users\\\\DELL G15\\\\Downloads\\\\archive (4)\\\\final_depression_dataset_1.csv')\n",
    "estimated_proportion = 0.3\n",
    "margin_of_error = 0.09 \n",
    "alpha = 0.05\n",
    "sample_size = estimate_sample_size_one_proportion(estimated_proportion, margin_of_error,alpha)\n",
    "print(f\"The estimated minimal sample size needed for the one-sample proportion estimation is: {sample_size}\")"
   ]
  },
  {
   "cell_type": "markdown",
   "id": "82a45af2-c506-42ba-9f72-d5aa58f7ca8e",
   "metadata": {},
   "source": [
    "## 2. Sample size for two samples\n"
   ]
  },
  {
   "cell_type": "code",
   "execution_count": 7,
   "id": "748313e0-f712-422c-b3c6-f21dd0c9d39d",
   "metadata": {},
   "outputs": [
    {
     "name": "stdout",
     "output_type": "stream",
     "text": [
      "The estimated sample size for group 1 (n1) is: 48\n",
      "The estimated sample size for group 2 (n2) is: 48\n"
     ]
    }
   ],
   "source": [
    "import pandas as pd\n",
    "import math\n",
    "\n",
    "def estimate_sample_sizes_two_sample(sigma, alpha, power, d):\n",
    "    z_alpha_over_2 = get_Z_TAB(alpha, 'two_sided')\n",
    "    z_power = get_Z_power(power)\n",
    "    N = math.ceil((4 * sigma**2 * (z_alpha_over_2 + z_power)**2) / d**2)\n",
    "    n1 = n2 = math.ceil(N / 2)\n",
    "    return n1, n2\n",
    "\n",
    "df = pd.read_csv('C:\\\\Users\\\\DELL G15\\\\Downloads\\\\archive (4)\\\\final_depression_dataset_1.csv')\n",
    "sigma = 30.0\n",
    "alpha = 0.05\n",
    "power = 0.90\n",
    "d = 20.0\n",
    "n1, n2 = estimate_sample_sizes_two_sample(sigma, alpha, power, d)\n",
    "\n",
    "print(f\"The estimated sample size for group 1 (n1) is: {n1}\")\n",
    "print(f\"The estimated sample size for group 2 (n2) is: {n2}\")"
   ]
  },
  {
   "cell_type": "markdown",
   "id": "b5610dab-e569-40ef-872b-ce19a9540175",
   "metadata": {},
   "source": [
    "## 4. For two proportions\n",
    "N=n1+n2= 4(z(1-alpha/2)+z(1-beta))2)[(P1+P2)/2(1-(P1+P2)/2))]/(d=mu1-mu2)2\n",
    "\n",
    "Null hypothesis: Mu1=mu2\n",
    "\n"
   ]
  },
  {
   "cell_type": "code",
   "execution_count": 9,
   "id": "6a29f306-51d0-481f-8353-2787482ba8b0",
   "metadata": {},
   "outputs": [
    {
     "name": "stdout",
     "output_type": "stream",
     "text": [
      "The estimated sample size for group 1 (n1) is: 79\n",
      "The estimated sample size for group 2 (n2) is: 79\n"
     ]
    }
   ],
   "source": [
    "import pandas as pd\n",
    "import math\n",
    "def estimate_sample_sizes_two_sample_proportion(p1, p2, alpha, power, d):\n",
    "    z_alpha_over_2 = get_Z_TAB(alpha,\"two_sided\")\n",
    "    z_power = get_Z_power(power)\n",
    "    N = math.ceil(4 * (z_alpha_over_2 + z_power)**2 * ((p1 + p2) / 2 * (1 - (p1 + p2) / 2)) / d**2)\n",
    "    n1 = n2 = math.ceil(N / 2)\n",
    "    return n1, n2\n",
    "\n",
    "p1_expected = 0.75\n",
    "p2_expected = 0.50\n",
    "alpha_value = 0.05\n",
    "power_value = 0.9\n",
    "expected_difference = p1_expected - p2_expected\n",
    "n1_estimate, n2_estimate = estimate_sample_sizes_two_sample_proportion(p1_expected, p2_expected, alpha_value, power_value, expected_difference)\n",
    "\n",
    "print(f\"The estimated sample size for group 1 (n1) is: {n1_estimate}\")\n",
    "print(f\"The estimated sample size for group 2 (n2) is: {n2_estimate}\")"
   ]
  },
  {
   "cell_type": "markdown",
   "id": "6c5f7ad2-853b-4d25-b704-1f8010cb192a",
   "metadata": {},
   "source": [
    "## **Thank You**"
   ]
  },
  {
   "cell_type": "code",
   "execution_count": null,
   "id": "0a97b4e0-d639-4fad-99ae-05f2ec4b4110",
   "metadata": {},
   "outputs": [],
   "source": []
  }
 ],
 "metadata": {
  "kernelspec": {
   "display_name": "Python 3 (ipykernel)",
   "language": "python",
   "name": "python3"
  },
  "language_info": {
   "codemirror_mode": {
    "name": "ipython",
    "version": 3
   },
   "file_extension": ".py",
   "mimetype": "text/x-python",
   "name": "python",
   "nbconvert_exporter": "python",
   "pygments_lexer": "ipython3",
   "version": "3.12.4"
  }
 },
 "nbformat": 4,
 "nbformat_minor": 5
}
